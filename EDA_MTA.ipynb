{
 "cells": [
  {
   "cell_type": "markdown",
   "metadata": {},
   "source": [
    "## MVP Foot Traffic Trend Analysis for Restaurant Chain"
   ]
  },
  {
   "cell_type": "markdown",
   "metadata": {},
   "source": [
    "#### by Burak BASOGUL"
   ]
  },
  {
   "cell_type": "markdown",
   "metadata": {},
   "source": [
    "### Overview\n",
    "\n",
    "**CLIENT:** A local restaurant chain operating in NYC. \n",
    "\n",
    "**ISSUE** : Client suspects that covid 19 pandemic conditions have drastically altered foot traffic volumes in some neighborhoods due to highly adapted rates of remote work option in the working population.  Client wants to identify foot traffic trends emerged during pandemic conditions and  monitor these trends as the covid 19 restrictions are gradually lifted and/or improved within the city. \n",
    "\n",
    "**GOAL** : Provide an initial study for the client identifying most significant trend shifts in volume of foot traffic from 2018 through the pandemic conditions to date in select NYC neighborhoods where some of the restaurant branches are located. \n",
    "\n",
    "**BENEFIT:** The initial report and subsequent monthly reports will then be included in decision making process by the Client  whether or not to move some of the branches into new neighborhoods or close them permanently.\n",
    "\n",
    "**DATA / METHODOLOGY:** MTA provides web hosted weekly data of volumes of entry and exits recorded at turnstiles in text format. This data will be retrieved via SQLite and compiled using Pandas. Visual data will be provided using Matplotlib. Top five neighborhoods / stations with most drastic foot traffic volume changes will be identified and presented in the report.\n"
   ]
  },
  {
   "cell_type": "code",
   "execution_count": 1,
   "metadata": {},
   "outputs": [],
   "source": [
    "import pandas as pd"
   ]
  },
  {
   "cell_type": "code",
   "execution_count": 2,
   "metadata": {},
   "outputs": [],
   "source": [
    "import datetime"
   ]
  },
  {
   "cell_type": "code",
   "execution_count": 61,
   "metadata": {},
   "outputs": [],
   "source": [
    "import numpy as np"
   ]
  },
  {
   "cell_type": "code",
   "execution_count": 3,
   "metadata": {},
   "outputs": [],
   "source": [
    "chunksize = 1000000\n",
    "df_19 = pd.concat([small_df for small_df in pd.read_csv(\"mta_data_19.csv\",usecols=['C/A','UNIT',\n",
    "                                                'SCP','STATION','DATE','TIME','DESC','EXITS'],\n",
    "                                                infer_datetime_format=True, \n",
    "                                                parse_dates=[['DATE', 'TIME']],\n",
    "                                                keep_date_col=True,\n",
    "                                                chunksize=chunksize, \n",
    "                                                iterator=True)], ignore_index=True)\n"
   ]
  },
  {
   "cell_type": "code",
   "execution_count": 4,
   "metadata": {},
   "outputs": [],
   "source": [
    "chunksize = 1000000\n",
    "df_20 = pd.concat([small_df for small_df in pd.read_csv(\"mta_data_20.csv\",usecols=['C/A','UNIT',\n",
    "                                                'SCP','STATION','DATE','TIME','DESC','EXITS'],\n",
    "                                                infer_datetime_format=True, \n",
    "                                                parse_dates=[['DATE', 'TIME']],\n",
    "                                                keep_date_col=True,\n",
    "                                                chunksize=chunksize, \n",
    "                                                iterator=True)], ignore_index=True)"
   ]
  },
  {
   "cell_type": "code",
   "execution_count": 5,
   "metadata": {},
   "outputs": [],
   "source": [
    "chunksize = 1000000\n",
    "df_21 = pd.concat([small_df for small_df in pd.read_csv(\"mta_data_21.csv\",usecols=['C/A','UNIT',\n",
    "                                                'SCP','STATION','DATE','TIME','DESC','EXITS'],\n",
    "                                                infer_datetime_format=True, \n",
    "                                                parse_dates=[['DATE', 'TIME']],\n",
    "                                                keep_date_col=True,\n",
    "                                                chunksize=chunksize, \n",
    "                                                iterator=True)], ignore_index=True)"
   ]
  },
  {
   "cell_type": "code",
   "execution_count": 6,
   "metadata": {},
   "outputs": [],
   "source": [
    "df_22 = pd.read_csv(\"mta_data_22.csv\",usecols=['C/A','UNIT',\n",
    "                                                'SCP','STATION','DATE','TIME','DESC','EXITS'],\n",
    "                                                infer_datetime_format=True, \n",
    "                                                parse_dates=[['DATE', 'TIME']],\n",
    "                                                keep_date_col=True)"
   ]
  },
  {
   "cell_type": "code",
   "execution_count": 7,
   "metadata": {},
   "outputs": [],
   "source": [
    "# Sort values for 2019. \n",
    "df_19.sort_values([\"C/A\", \"UNIT\", \"SCP\", \"STATION\", \"DATE_TIME\"], \n",
    "                          inplace=True, ascending=False, ignore_index=True)"
   ]
  },
  {
   "cell_type": "code",
   "execution_count": 8,
   "metadata": {},
   "outputs": [],
   "source": [
    "#Find max Exit values registered at each turnstile on each day at each station.\n",
    "turnstiles_daily_19 = (df_19\n",
    "                        .groupby([\"C/A\", \"UNIT\", \"SCP\", \"STATION\", \"DATE\"],as_index=False)\n",
    "                        .EXITS.max())"
   ]
  },
  {
   "cell_type": "code",
   "execution_count": 9,
   "metadata": {},
   "outputs": [
    {
     "name": "stderr",
     "output_type": "stream",
     "text": [
      "/tmp/ipykernel_3237/908704577.py:1: FutureWarning: Indexing with multiple keys (implicitly converted to a tuple of keys) will be deprecated, use a list instead.\n",
      "  turnstiles_daily_19[[\"PREV_DATE\", \"PREV_EXITS\"]] = (turnstiles_daily_19\n"
     ]
    }
   ],
   "source": [
    "turnstiles_daily_19[[\"PREV_DATE\", \"PREV_EXITS\"]] = (turnstiles_daily_19\n",
    "                                                       .groupby([\"C/A\", \"UNIT\", \"SCP\", \"STATION\"])[\"DATE\", \"EXITS\"]\n",
    "                                                       .apply(lambda grp: grp.shift(1)))"
   ]
  },
  {
   "cell_type": "code",
   "execution_count": 10,
   "metadata": {},
   "outputs": [],
   "source": [
    "# Drop the rows for the earliest date in the df\n",
    "turnstiles_daily_19.dropna(subset=[\"PREV_DATE\"], axis=0, inplace=True)"
   ]
  },
  {
   "cell_type": "code",
   "execution_count": 11,
   "metadata": {},
   "outputs": [],
   "source": [
    "def get_daily_counts(row, max_counter):\n",
    "    counter = row[\"EXITS\"] - row[\"PREV_EXITS\"]\n",
    "    if counter < 0:\n",
    "        counter = -counter\n",
    "    if counter > max_counter:\n",
    "        return 0\n",
    "    return counter\n",
    "turnstiles_daily_19[\"DAILY_EXITS\"] = turnstiles_daily_19.apply(get_daily_counts, axis=1, max_counter=1000000)"
   ]
  },
  {
   "cell_type": "code",
   "execution_count": 12,
   "metadata": {},
   "outputs": [
    {
     "data": {
      "text/html": [
       "<div>\n",
       "<style scoped>\n",
       "    .dataframe tbody tr th:only-of-type {\n",
       "        vertical-align: middle;\n",
       "    }\n",
       "\n",
       "    .dataframe tbody tr th {\n",
       "        vertical-align: top;\n",
       "    }\n",
       "\n",
       "    .dataframe thead th {\n",
       "        text-align: right;\n",
       "    }\n",
       "</style>\n",
       "<table border=\"1\" class=\"dataframe\">\n",
       "  <thead>\n",
       "    <tr style=\"text-align: right;\">\n",
       "      <th></th>\n",
       "      <th>C/A</th>\n",
       "      <th>UNIT</th>\n",
       "      <th>STATION</th>\n",
       "      <th>DATE</th>\n",
       "      <th>DAILY_EXITS</th>\n",
       "    </tr>\n",
       "  </thead>\n",
       "  <tbody>\n",
       "    <tr>\n",
       "      <th>0</th>\n",
       "      <td>A002</td>\n",
       "      <td>R051</td>\n",
       "      <td>59 ST</td>\n",
       "      <td>01/02/2019</td>\n",
       "      <td>7980.0</td>\n",
       "    </tr>\n",
       "    <tr>\n",
       "      <th>1</th>\n",
       "      <td>A002</td>\n",
       "      <td>R051</td>\n",
       "      <td>59 ST</td>\n",
       "      <td>01/03/2019</td>\n",
       "      <td>8159.0</td>\n",
       "    </tr>\n",
       "    <tr>\n",
       "      <th>2</th>\n",
       "      <td>A002</td>\n",
       "      <td>R051</td>\n",
       "      <td>59 ST</td>\n",
       "      <td>01/04/2019</td>\n",
       "      <td>8155.0</td>\n",
       "    </tr>\n",
       "    <tr>\n",
       "      <th>3</th>\n",
       "      <td>A002</td>\n",
       "      <td>R051</td>\n",
       "      <td>59 ST</td>\n",
       "      <td>01/05/2019</td>\n",
       "      <td>4563.0</td>\n",
       "    </tr>\n",
       "    <tr>\n",
       "      <th>4</th>\n",
       "      <td>A002</td>\n",
       "      <td>R051</td>\n",
       "      <td>59 ST</td>\n",
       "      <td>01/06/2019</td>\n",
       "      <td>3787.0</td>\n",
       "    </tr>\n",
       "  </tbody>\n",
       "</table>\n",
       "</div>"
      ],
      "text/plain": [
       "    C/A  UNIT STATION        DATE  DAILY_EXITS\n",
       "0  A002  R051   59 ST  01/02/2019       7980.0\n",
       "1  A002  R051   59 ST  01/03/2019       8159.0\n",
       "2  A002  R051   59 ST  01/04/2019       8155.0\n",
       "3  A002  R051   59 ST  01/05/2019       4563.0\n",
       "4  A002  R051   59 ST  01/06/2019       3787.0"
      ]
     },
     "execution_count": 12,
     "metadata": {},
     "output_type": "execute_result"
    }
   ],
   "source": [
    "# Sum of all Exit values from turnstiles grouped under C/A, Unit and Station\n",
    "ca_unit_station_daily_19 = turnstiles_daily_19.groupby([\"C/A\", \"UNIT\", \"STATION\", \"DATE\"])[['DAILY_EXITS']].sum().reset_index()\n",
    "ca_unit_station_daily_19.head()"
   ]
  },
  {
   "cell_type": "code",
   "execution_count": 13,
   "metadata": {},
   "outputs": [
    {
     "data": {
      "text/html": [
       "<div>\n",
       "<style scoped>\n",
       "    .dataframe tbody tr th:only-of-type {\n",
       "        vertical-align: middle;\n",
       "    }\n",
       "\n",
       "    .dataframe tbody tr th {\n",
       "        vertical-align: top;\n",
       "    }\n",
       "\n",
       "    .dataframe thead th {\n",
       "        text-align: right;\n",
       "    }\n",
       "</style>\n",
       "<table border=\"1\" class=\"dataframe\">\n",
       "  <thead>\n",
       "    <tr style=\"text-align: right;\">\n",
       "      <th></th>\n",
       "      <th>STATION</th>\n",
       "      <th>DATE</th>\n",
       "      <th>DAILY_EXITS</th>\n",
       "    </tr>\n",
       "  </thead>\n",
       "  <tbody>\n",
       "    <tr>\n",
       "      <th>0</th>\n",
       "      <td>1 AV</td>\n",
       "      <td>01/02/2019</td>\n",
       "      <td>21058.0</td>\n",
       "    </tr>\n",
       "    <tr>\n",
       "      <th>1</th>\n",
       "      <td>1 AV</td>\n",
       "      <td>01/03/2019</td>\n",
       "      <td>22531.0</td>\n",
       "    </tr>\n",
       "    <tr>\n",
       "      <th>2</th>\n",
       "      <td>1 AV</td>\n",
       "      <td>01/04/2019</td>\n",
       "      <td>23633.0</td>\n",
       "    </tr>\n",
       "    <tr>\n",
       "      <th>3</th>\n",
       "      <td>1 AV</td>\n",
       "      <td>01/05/2019</td>\n",
       "      <td>16661.0</td>\n",
       "    </tr>\n",
       "    <tr>\n",
       "      <th>4</th>\n",
       "      <td>1 AV</td>\n",
       "      <td>01/06/2019</td>\n",
       "      <td>13789.0</td>\n",
       "    </tr>\n",
       "  </tbody>\n",
       "</table>\n",
       "</div>"
      ],
      "text/plain": [
       "  STATION        DATE  DAILY_EXITS\n",
       "0    1 AV  01/02/2019      21058.0\n",
       "1    1 AV  01/03/2019      22531.0\n",
       "2    1 AV  01/04/2019      23633.0\n",
       "3    1 AV  01/05/2019      16661.0\n",
       "4    1 AV  01/06/2019      13789.0"
      ]
     },
     "execution_count": 13,
     "metadata": {},
     "output_type": "execute_result"
    }
   ],
   "source": [
    "# Sum of all Exit values per Station per day.\n",
    "station_daily_19 = turnstiles_daily_19.groupby([\"STATION\", \"DATE\"])[['DAILY_EXITS']].sum().reset_index()\n",
    "station_daily_19.head()"
   ]
  },
  {
   "cell_type": "code",
   "execution_count": 14,
   "metadata": {},
   "outputs": [
    {
     "data": {
      "text/html": [
       "<div>\n",
       "<style scoped>\n",
       "    .dataframe tbody tr th:only-of-type {\n",
       "        vertical-align: middle;\n",
       "    }\n",
       "\n",
       "    .dataframe tbody tr th {\n",
       "        vertical-align: top;\n",
       "    }\n",
       "\n",
       "    .dataframe thead th {\n",
       "        text-align: right;\n",
       "    }\n",
       "</style>\n",
       "<table border=\"1\" class=\"dataframe\">\n",
       "  <thead>\n",
       "    <tr style=\"text-align: right;\">\n",
       "      <th></th>\n",
       "      <th>STATION</th>\n",
       "      <th>DAILY_EXITS</th>\n",
       "    </tr>\n",
       "  </thead>\n",
       "  <tbody>\n",
       "    <tr>\n",
       "      <th>0</th>\n",
       "      <td>34 ST-PENN STA</td>\n",
       "      <td>83112247.0</td>\n",
       "    </tr>\n",
       "    <tr>\n",
       "      <th>1</th>\n",
       "      <td>GRD CNTRL-42 ST</td>\n",
       "      <td>62909377.0</td>\n",
       "    </tr>\n",
       "    <tr>\n",
       "      <th>2</th>\n",
       "      <td>34 ST-HERALD SQ</td>\n",
       "      <td>58208773.0</td>\n",
       "    </tr>\n",
       "    <tr>\n",
       "      <th>3</th>\n",
       "      <td>FULTON ST</td>\n",
       "      <td>51636459.0</td>\n",
       "    </tr>\n",
       "    <tr>\n",
       "      <th>4</th>\n",
       "      <td>23 ST</td>\n",
       "      <td>46387406.0</td>\n",
       "    </tr>\n",
       "    <tr>\n",
       "      <th>5</th>\n",
       "      <td>TIMES SQ-42 ST</td>\n",
       "      <td>44470349.0</td>\n",
       "    </tr>\n",
       "    <tr>\n",
       "      <th>6</th>\n",
       "      <td>42 ST-PORT AUTH</td>\n",
       "      <td>42658003.0</td>\n",
       "    </tr>\n",
       "    <tr>\n",
       "      <th>7</th>\n",
       "      <td>14 ST-UNION SQ</td>\n",
       "      <td>40833981.0</td>\n",
       "    </tr>\n",
       "    <tr>\n",
       "      <th>8</th>\n",
       "      <td>CANAL ST</td>\n",
       "      <td>38531576.0</td>\n",
       "    </tr>\n",
       "    <tr>\n",
       "      <th>9</th>\n",
       "      <td>86 ST</td>\n",
       "      <td>38234873.0</td>\n",
       "    </tr>\n",
       "  </tbody>\n",
       "</table>\n",
       "</div>"
      ],
      "text/plain": [
       "           STATION  DAILY_EXITS\n",
       "0   34 ST-PENN STA   83112247.0\n",
       "1  GRD CNTRL-42 ST   62909377.0\n",
       "2  34 ST-HERALD SQ   58208773.0\n",
       "3        FULTON ST   51636459.0\n",
       "4            23 ST   46387406.0\n",
       "5   TIMES SQ-42 ST   44470349.0\n",
       "6  42 ST-PORT AUTH   42658003.0\n",
       "7   14 ST-UNION SQ   40833981.0\n",
       "8         CANAL ST   38531576.0\n",
       "9            86 ST   38234873.0"
      ]
     },
     "execution_count": 14,
     "metadata": {},
     "output_type": "execute_result"
    }
   ],
   "source": [
    "#Sum of all Exit values per Station in the year of 2018 sorted from highest.\n",
    "station_totals_19 = station_daily_19.groupby('STATION').sum()\\\n",
    "    .sort_values('DAILY_EXITS', ascending=False)\\\n",
    "    .reset_index()\n",
    "\n",
    "station_totals_19.head(10)"
   ]
  },
  {
   "cell_type": "code",
   "execution_count": 15,
   "metadata": {},
   "outputs": [
    {
     "data": {
      "text/plain": [
       "2650462774.0"
      ]
     },
     "execution_count": 15,
     "metadata": {},
     "output_type": "execute_result"
    }
   ],
   "source": [
    "total_exit_volume_19 = station_totals_19[\"DAILY_EXITS\"].sum()\n",
    "total_exit_volume_19"
   ]
  },
  {
   "cell_type": "code",
   "execution_count": 16,
   "metadata": {},
   "outputs": [],
   "source": [
    "# Sort values for 2020. \n",
    "df_20.sort_values([\"C/A\", \"UNIT\", \"SCP\", \"STATION\", \"DATE_TIME\"], \n",
    "                          inplace=True, ascending=False, ignore_index=True)"
   ]
  },
  {
   "cell_type": "code",
   "execution_count": 17,
   "metadata": {},
   "outputs": [],
   "source": [
    "#Find max Exit values registered at each turnstile on each day at each station.\n",
    "turnstiles_daily_20 = (df_20\n",
    "                        .groupby([\"C/A\", \"UNIT\", \"SCP\", \"STATION\", \"DATE\"],as_index=False)\n",
    "                        .EXITS.max())"
   ]
  },
  {
   "cell_type": "code",
   "execution_count": 18,
   "metadata": {},
   "outputs": [
    {
     "name": "stderr",
     "output_type": "stream",
     "text": [
      "/tmp/ipykernel_3237/28776503.py:1: FutureWarning: Indexing with multiple keys (implicitly converted to a tuple of keys) will be deprecated, use a list instead.\n",
      "  turnstiles_daily_20[[\"PREV_DATE\", \"PREV_EXITS\"]] = (turnstiles_daily_20\n"
     ]
    }
   ],
   "source": [
    "turnstiles_daily_20[[\"PREV_DATE\", \"PREV_EXITS\"]] = (turnstiles_daily_20\n",
    "                                                .groupby([\"C/A\", \"UNIT\", \"SCP\", \"STATION\"])\n",
    "                                                [\"DATE\", \"EXITS\"]\n",
    "                                                .apply(lambda grp: grp.shift(1)))"
   ]
  },
  {
   "cell_type": "code",
   "execution_count": 19,
   "metadata": {},
   "outputs": [],
   "source": [
    "# Drop the rows for the earliest date in the df\n",
    "turnstiles_daily_20.dropna(subset=[\"PREV_DATE\"], axis=0, inplace=True)"
   ]
  },
  {
   "cell_type": "code",
   "execution_count": 20,
   "metadata": {},
   "outputs": [],
   "source": [
    "turnstiles_daily_20[\"DAILY_EXITS\"] = turnstiles_daily_20.apply(\n",
    "                                            get_daily_counts, axis=1, max_counter=1000000)"
   ]
  },
  {
   "cell_type": "code",
   "execution_count": 21,
   "metadata": {},
   "outputs": [
    {
     "data": {
      "text/html": [
       "<div>\n",
       "<style scoped>\n",
       "    .dataframe tbody tr th:only-of-type {\n",
       "        vertical-align: middle;\n",
       "    }\n",
       "\n",
       "    .dataframe tbody tr th {\n",
       "        vertical-align: top;\n",
       "    }\n",
       "\n",
       "    .dataframe thead th {\n",
       "        text-align: right;\n",
       "    }\n",
       "</style>\n",
       "<table border=\"1\" class=\"dataframe\">\n",
       "  <thead>\n",
       "    <tr style=\"text-align: right;\">\n",
       "      <th></th>\n",
       "      <th>C/A</th>\n",
       "      <th>UNIT</th>\n",
       "      <th>STATION</th>\n",
       "      <th>DATE</th>\n",
       "      <th>DAILY_EXITS</th>\n",
       "    </tr>\n",
       "  </thead>\n",
       "  <tbody>\n",
       "    <tr>\n",
       "      <th>0</th>\n",
       "      <td>A002</td>\n",
       "      <td>R051</td>\n",
       "      <td>59 ST</td>\n",
       "      <td>01/02/2020</td>\n",
       "      <td>7737.0</td>\n",
       "    </tr>\n",
       "    <tr>\n",
       "      <th>1</th>\n",
       "      <td>A002</td>\n",
       "      <td>R051</td>\n",
       "      <td>59 ST</td>\n",
       "      <td>01/03/2020</td>\n",
       "      <td>7729.0</td>\n",
       "    </tr>\n",
       "    <tr>\n",
       "      <th>2</th>\n",
       "      <td>A002</td>\n",
       "      <td>R051</td>\n",
       "      <td>59 ST</td>\n",
       "      <td>01/04/2020</td>\n",
       "      <td>6508.0</td>\n",
       "    </tr>\n",
       "    <tr>\n",
       "      <th>3</th>\n",
       "      <td>A002</td>\n",
       "      <td>R051</td>\n",
       "      <td>59 ST</td>\n",
       "      <td>01/05/2020</td>\n",
       "      <td>5798.0</td>\n",
       "    </tr>\n",
       "    <tr>\n",
       "      <th>4</th>\n",
       "      <td>A002</td>\n",
       "      <td>R051</td>\n",
       "      <td>59 ST</td>\n",
       "      <td>01/06/2020</td>\n",
       "      <td>8756.0</td>\n",
       "    </tr>\n",
       "  </tbody>\n",
       "</table>\n",
       "</div>"
      ],
      "text/plain": [
       "    C/A  UNIT STATION        DATE  DAILY_EXITS\n",
       "0  A002  R051   59 ST  01/02/2020       7737.0\n",
       "1  A002  R051   59 ST  01/03/2020       7729.0\n",
       "2  A002  R051   59 ST  01/04/2020       6508.0\n",
       "3  A002  R051   59 ST  01/05/2020       5798.0\n",
       "4  A002  R051   59 ST  01/06/2020       8756.0"
      ]
     },
     "execution_count": 21,
     "metadata": {},
     "output_type": "execute_result"
    }
   ],
   "source": [
    "# Sum of all Exit values from turnstiles grouped under C/A, Unit and Station\n",
    "ca_unit_station_daily_20 = turnstiles_daily_20.groupby([\"C/A\", \"UNIT\", \"STATION\", \"DATE\"])[['DAILY_EXITS']].sum().reset_index()\n",
    "ca_unit_station_daily_20.head()"
   ]
  },
  {
   "cell_type": "code",
   "execution_count": 22,
   "metadata": {},
   "outputs": [
    {
     "data": {
      "text/html": [
       "<div>\n",
       "<style scoped>\n",
       "    .dataframe tbody tr th:only-of-type {\n",
       "        vertical-align: middle;\n",
       "    }\n",
       "\n",
       "    .dataframe tbody tr th {\n",
       "        vertical-align: top;\n",
       "    }\n",
       "\n",
       "    .dataframe thead th {\n",
       "        text-align: right;\n",
       "    }\n",
       "</style>\n",
       "<table border=\"1\" class=\"dataframe\">\n",
       "  <thead>\n",
       "    <tr style=\"text-align: right;\">\n",
       "      <th></th>\n",
       "      <th>STATION</th>\n",
       "      <th>DATE</th>\n",
       "      <th>DAILY_EXITS</th>\n",
       "    </tr>\n",
       "  </thead>\n",
       "  <tbody>\n",
       "    <tr>\n",
       "      <th>0</th>\n",
       "      <td>1 AV</td>\n",
       "      <td>01/02/2020</td>\n",
       "      <td>17949.0</td>\n",
       "    </tr>\n",
       "    <tr>\n",
       "      <th>1</th>\n",
       "      <td>1 AV</td>\n",
       "      <td>01/03/2020</td>\n",
       "      <td>18683.0</td>\n",
       "    </tr>\n",
       "    <tr>\n",
       "      <th>2</th>\n",
       "      <td>1 AV</td>\n",
       "      <td>01/04/2020</td>\n",
       "      <td>7771.0</td>\n",
       "    </tr>\n",
       "    <tr>\n",
       "      <th>3</th>\n",
       "      <td>1 AV</td>\n",
       "      <td>01/05/2020</td>\n",
       "      <td>6176.0</td>\n",
       "    </tr>\n",
       "    <tr>\n",
       "      <th>4</th>\n",
       "      <td>1 AV</td>\n",
       "      <td>01/06/2020</td>\n",
       "      <td>18893.0</td>\n",
       "    </tr>\n",
       "  </tbody>\n",
       "</table>\n",
       "</div>"
      ],
      "text/plain": [
       "  STATION        DATE  DAILY_EXITS\n",
       "0    1 AV  01/02/2020      17949.0\n",
       "1    1 AV  01/03/2020      18683.0\n",
       "2    1 AV  01/04/2020       7771.0\n",
       "3    1 AV  01/05/2020       6176.0\n",
       "4    1 AV  01/06/2020      18893.0"
      ]
     },
     "execution_count": 22,
     "metadata": {},
     "output_type": "execute_result"
    }
   ],
   "source": [
    "# Sum of all Exit values per Station per day.\n",
    "station_daily_20 = turnstiles_daily_20.groupby([\"STATION\", \"DATE\"])[['DAILY_EXITS']].sum().reset_index()\n",
    "station_daily_20.head()"
   ]
  },
  {
   "cell_type": "code",
   "execution_count": 23,
   "metadata": {},
   "outputs": [
    {
     "data": {
      "text/html": [
       "<div>\n",
       "<style scoped>\n",
       "    .dataframe tbody tr th:only-of-type {\n",
       "        vertical-align: middle;\n",
       "    }\n",
       "\n",
       "    .dataframe tbody tr th {\n",
       "        vertical-align: top;\n",
       "    }\n",
       "\n",
       "    .dataframe thead th {\n",
       "        text-align: right;\n",
       "    }\n",
       "</style>\n",
       "<table border=\"1\" class=\"dataframe\">\n",
       "  <thead>\n",
       "    <tr style=\"text-align: right;\">\n",
       "      <th></th>\n",
       "      <th>STATION</th>\n",
       "      <th>DAILY_EXITS</th>\n",
       "    </tr>\n",
       "  </thead>\n",
       "  <tbody>\n",
       "    <tr>\n",
       "      <th>0</th>\n",
       "      <td>34 ST-PENN STA</td>\n",
       "      <td>34572311.0</td>\n",
       "    </tr>\n",
       "    <tr>\n",
       "      <th>1</th>\n",
       "      <td>34 ST-HERALD SQ</td>\n",
       "      <td>27105321.0</td>\n",
       "    </tr>\n",
       "    <tr>\n",
       "      <th>2</th>\n",
       "      <td>GRD CNTRL-42 ST</td>\n",
       "      <td>26326888.0</td>\n",
       "    </tr>\n",
       "    <tr>\n",
       "      <th>3</th>\n",
       "      <td>86 ST</td>\n",
       "      <td>23300762.0</td>\n",
       "    </tr>\n",
       "    <tr>\n",
       "      <th>4</th>\n",
       "      <td>14 ST-UNION SQ</td>\n",
       "      <td>22013665.0</td>\n",
       "    </tr>\n",
       "    <tr>\n",
       "      <th>5</th>\n",
       "      <td>FULTON ST</td>\n",
       "      <td>20943542.0</td>\n",
       "    </tr>\n",
       "    <tr>\n",
       "      <th>6</th>\n",
       "      <td>23 ST</td>\n",
       "      <td>20277729.0</td>\n",
       "    </tr>\n",
       "    <tr>\n",
       "      <th>7</th>\n",
       "      <td>TIMES SQ-42 ST</td>\n",
       "      <td>19913860.0</td>\n",
       "    </tr>\n",
       "    <tr>\n",
       "      <th>8</th>\n",
       "      <td>125 ST</td>\n",
       "      <td>19732888.0</td>\n",
       "    </tr>\n",
       "    <tr>\n",
       "      <th>9</th>\n",
       "      <td>42 ST-PORT AUTH</td>\n",
       "      <td>17347341.0</td>\n",
       "    </tr>\n",
       "  </tbody>\n",
       "</table>\n",
       "</div>"
      ],
      "text/plain": [
       "           STATION  DAILY_EXITS\n",
       "0   34 ST-PENN STA   34572311.0\n",
       "1  34 ST-HERALD SQ   27105321.0\n",
       "2  GRD CNTRL-42 ST   26326888.0\n",
       "3            86 ST   23300762.0\n",
       "4   14 ST-UNION SQ   22013665.0\n",
       "5        FULTON ST   20943542.0\n",
       "6            23 ST   20277729.0\n",
       "7   TIMES SQ-42 ST   19913860.0\n",
       "8           125 ST   19732888.0\n",
       "9  42 ST-PORT AUTH   17347341.0"
      ]
     },
     "execution_count": 23,
     "metadata": {},
     "output_type": "execute_result"
    }
   ],
   "source": [
    "#Sum of all Exit values per Station in the year of 2018 sorted from highest.\n",
    "station_totals_20 = station_daily_20.groupby('STATION').sum()\\\n",
    "    .sort_values('DAILY_EXITS', ascending=False)\\\n",
    "    .reset_index()\n",
    "\n",
    "station_totals_20.head(10)"
   ]
  },
  {
   "cell_type": "code",
   "execution_count": 24,
   "metadata": {},
   "outputs": [
    {
     "data": {
      "text/plain": [
       "1298267236.0"
      ]
     },
     "execution_count": 24,
     "metadata": {},
     "output_type": "execute_result"
    }
   ],
   "source": [
    "total_exit_volume_20 = station_totals_20[\"DAILY_EXITS\"].sum()\n",
    "total_exit_volume_20"
   ]
  },
  {
   "cell_type": "code",
   "execution_count": 25,
   "metadata": {},
   "outputs": [],
   "source": [
    "# Sort values for 2021. \n",
    "df_21.sort_values([\"C/A\", \"UNIT\", \"SCP\", \"STATION\", \"DATE_TIME\"], \n",
    "                          inplace=True, ascending=False, ignore_index=True)"
   ]
  },
  {
   "cell_type": "code",
   "execution_count": 26,
   "metadata": {},
   "outputs": [],
   "source": [
    "#Find max Exit values registered at each turnstile on each day at each station.\n",
    "turnstiles_daily_21 = (df_21\n",
    "                        .groupby([\"C/A\", \"UNIT\", \"SCP\", \"STATION\", \"DATE\"],as_index=False)\n",
    "                        .EXITS.max())"
   ]
  },
  {
   "cell_type": "code",
   "execution_count": 27,
   "metadata": {},
   "outputs": [
    {
     "name": "stderr",
     "output_type": "stream",
     "text": [
      "/tmp/ipykernel_3237/2560278915.py:1: FutureWarning: Indexing with multiple keys (implicitly converted to a tuple of keys) will be deprecated, use a list instead.\n",
      "  turnstiles_daily_21[[\"PREV_DATE\", \"PREV_EXITS\"]] = (turnstiles_daily_21\n"
     ]
    }
   ],
   "source": [
    "turnstiles_daily_21[[\"PREV_DATE\", \"PREV_EXITS\"]] = (turnstiles_daily_21\n",
    "                                                       .groupby([\"C/A\", \"UNIT\", \"SCP\", \"STATION\"])[\"DATE\", \"EXITS\"]\n",
    "                                                       .apply(lambda grp: grp.shift(1)))"
   ]
  },
  {
   "cell_type": "code",
   "execution_count": 28,
   "metadata": {},
   "outputs": [],
   "source": [
    "# Drop the rows for the earliest date in the df\n",
    "turnstiles_daily_21.dropna(subset=[\"PREV_DATE\"], axis=0, inplace=True)"
   ]
  },
  {
   "cell_type": "code",
   "execution_count": 29,
   "metadata": {},
   "outputs": [],
   "source": [
    "turnstiles_daily_21[\"DAILY_EXITS\"] = turnstiles_daily_21.apply(get_daily_counts, axis=1, max_counter=1000000)"
   ]
  },
  {
   "cell_type": "code",
   "execution_count": 30,
   "metadata": {},
   "outputs": [
    {
     "data": {
      "text/html": [
       "<div>\n",
       "<style scoped>\n",
       "    .dataframe tbody tr th:only-of-type {\n",
       "        vertical-align: middle;\n",
       "    }\n",
       "\n",
       "    .dataframe tbody tr th {\n",
       "        vertical-align: top;\n",
       "    }\n",
       "\n",
       "    .dataframe thead th {\n",
       "        text-align: right;\n",
       "    }\n",
       "</style>\n",
       "<table border=\"1\" class=\"dataframe\">\n",
       "  <thead>\n",
       "    <tr style=\"text-align: right;\">\n",
       "      <th></th>\n",
       "      <th>C/A</th>\n",
       "      <th>UNIT</th>\n",
       "      <th>STATION</th>\n",
       "      <th>DATE</th>\n",
       "      <th>DAILY_EXITS</th>\n",
       "    </tr>\n",
       "  </thead>\n",
       "  <tbody>\n",
       "    <tr>\n",
       "      <th>0</th>\n",
       "      <td>A002</td>\n",
       "      <td>R051</td>\n",
       "      <td>59 ST</td>\n",
       "      <td>01/02/2021</td>\n",
       "      <td>1975.0</td>\n",
       "    </tr>\n",
       "    <tr>\n",
       "      <th>1</th>\n",
       "      <td>A002</td>\n",
       "      <td>R051</td>\n",
       "      <td>59 ST</td>\n",
       "      <td>01/03/2021</td>\n",
       "      <td>1381.0</td>\n",
       "    </tr>\n",
       "    <tr>\n",
       "      <th>2</th>\n",
       "      <td>A002</td>\n",
       "      <td>R051</td>\n",
       "      <td>59 ST</td>\n",
       "      <td>01/04/2021</td>\n",
       "      <td>3420.0</td>\n",
       "    </tr>\n",
       "    <tr>\n",
       "      <th>3</th>\n",
       "      <td>A002</td>\n",
       "      <td>R051</td>\n",
       "      <td>59 ST</td>\n",
       "      <td>01/05/2021</td>\n",
       "      <td>3475.0</td>\n",
       "    </tr>\n",
       "    <tr>\n",
       "      <th>4</th>\n",
       "      <td>A002</td>\n",
       "      <td>R051</td>\n",
       "      <td>59 ST</td>\n",
       "      <td>01/06/2021</td>\n",
       "      <td>3575.0</td>\n",
       "    </tr>\n",
       "  </tbody>\n",
       "</table>\n",
       "</div>"
      ],
      "text/plain": [
       "    C/A  UNIT STATION        DATE  DAILY_EXITS\n",
       "0  A002  R051   59 ST  01/02/2021       1975.0\n",
       "1  A002  R051   59 ST  01/03/2021       1381.0\n",
       "2  A002  R051   59 ST  01/04/2021       3420.0\n",
       "3  A002  R051   59 ST  01/05/2021       3475.0\n",
       "4  A002  R051   59 ST  01/06/2021       3575.0"
      ]
     },
     "execution_count": 30,
     "metadata": {},
     "output_type": "execute_result"
    }
   ],
   "source": [
    "# Sum of all Exit values from turnstiles grouped under C/A, Unit and Station\n",
    "ca_unit_station_daily_21 = turnstiles_daily_21.groupby([\"C/A\", \"UNIT\", \"STATION\", \"DATE\"])[['DAILY_EXITS']].sum().reset_index()\n",
    "ca_unit_station_daily_21.head()"
   ]
  },
  {
   "cell_type": "code",
   "execution_count": 31,
   "metadata": {},
   "outputs": [
    {
     "data": {
      "text/html": [
       "<div>\n",
       "<style scoped>\n",
       "    .dataframe tbody tr th:only-of-type {\n",
       "        vertical-align: middle;\n",
       "    }\n",
       "\n",
       "    .dataframe tbody tr th {\n",
       "        vertical-align: top;\n",
       "    }\n",
       "\n",
       "    .dataframe thead th {\n",
       "        text-align: right;\n",
       "    }\n",
       "</style>\n",
       "<table border=\"1\" class=\"dataframe\">\n",
       "  <thead>\n",
       "    <tr style=\"text-align: right;\">\n",
       "      <th></th>\n",
       "      <th>STATION</th>\n",
       "      <th>DATE</th>\n",
       "      <th>DAILY_EXITS</th>\n",
       "    </tr>\n",
       "  </thead>\n",
       "  <tbody>\n",
       "    <tr>\n",
       "      <th>0</th>\n",
       "      <td>1 AV</td>\n",
       "      <td>01/02/2021</td>\n",
       "      <td>6054.0</td>\n",
       "    </tr>\n",
       "    <tr>\n",
       "      <th>1</th>\n",
       "      <td>1 AV</td>\n",
       "      <td>01/03/2021</td>\n",
       "      <td>4537.0</td>\n",
       "    </tr>\n",
       "    <tr>\n",
       "      <th>2</th>\n",
       "      <td>1 AV</td>\n",
       "      <td>01/04/2021</td>\n",
       "      <td>8145.0</td>\n",
       "    </tr>\n",
       "    <tr>\n",
       "      <th>3</th>\n",
       "      <td>1 AV</td>\n",
       "      <td>01/05/2021</td>\n",
       "      <td>8332.0</td>\n",
       "    </tr>\n",
       "    <tr>\n",
       "      <th>4</th>\n",
       "      <td>1 AV</td>\n",
       "      <td>01/06/2021</td>\n",
       "      <td>8532.0</td>\n",
       "    </tr>\n",
       "  </tbody>\n",
       "</table>\n",
       "</div>"
      ],
      "text/plain": [
       "  STATION        DATE  DAILY_EXITS\n",
       "0    1 AV  01/02/2021       6054.0\n",
       "1    1 AV  01/03/2021       4537.0\n",
       "2    1 AV  01/04/2021       8145.0\n",
       "3    1 AV  01/05/2021       8332.0\n",
       "4    1 AV  01/06/2021       8532.0"
      ]
     },
     "execution_count": 31,
     "metadata": {},
     "output_type": "execute_result"
    }
   ],
   "source": [
    "# Sum of all Exit values per Station per day.\n",
    "station_daily_21 = turnstiles_daily_21.groupby([\"STATION\", \"DATE\"])[['DAILY_EXITS']].sum().reset_index()\n",
    "station_daily_21.head()"
   ]
  },
  {
   "cell_type": "code",
   "execution_count": 32,
   "metadata": {},
   "outputs": [
    {
     "data": {
      "text/html": [
       "<div>\n",
       "<style scoped>\n",
       "    .dataframe tbody tr th:only-of-type {\n",
       "        vertical-align: middle;\n",
       "    }\n",
       "\n",
       "    .dataframe tbody tr th {\n",
       "        vertical-align: top;\n",
       "    }\n",
       "\n",
       "    .dataframe thead th {\n",
       "        text-align: right;\n",
       "    }\n",
       "</style>\n",
       "<table border=\"1\" class=\"dataframe\">\n",
       "  <thead>\n",
       "    <tr style=\"text-align: right;\">\n",
       "      <th></th>\n",
       "      <th>STATION</th>\n",
       "      <th>DAILY_EXITS</th>\n",
       "    </tr>\n",
       "  </thead>\n",
       "  <tbody>\n",
       "    <tr>\n",
       "      <th>0</th>\n",
       "      <td>34 ST-PENN STA</td>\n",
       "      <td>41374891.0</td>\n",
       "    </tr>\n",
       "    <tr>\n",
       "      <th>1</th>\n",
       "      <td>34 ST-HERALD SQ</td>\n",
       "      <td>31018738.0</td>\n",
       "    </tr>\n",
       "    <tr>\n",
       "      <th>2</th>\n",
       "      <td>GRD CNTRL-42 ST</td>\n",
       "      <td>28092059.0</td>\n",
       "    </tr>\n",
       "    <tr>\n",
       "      <th>3</th>\n",
       "      <td>14 ST-UNION SQ</td>\n",
       "      <td>27331358.0</td>\n",
       "    </tr>\n",
       "    <tr>\n",
       "      <th>4</th>\n",
       "      <td>86 ST</td>\n",
       "      <td>26763640.0</td>\n",
       "    </tr>\n",
       "    <tr>\n",
       "      <th>5</th>\n",
       "      <td>125 ST</td>\n",
       "      <td>26014132.0</td>\n",
       "    </tr>\n",
       "    <tr>\n",
       "      <th>6</th>\n",
       "      <td>23 ST</td>\n",
       "      <td>24146234.0</td>\n",
       "    </tr>\n",
       "    <tr>\n",
       "      <th>7</th>\n",
       "      <td>42 ST-PORT AUTH</td>\n",
       "      <td>22903268.0</td>\n",
       "    </tr>\n",
       "    <tr>\n",
       "      <th>8</th>\n",
       "      <td>TIMES SQ-42 ST</td>\n",
       "      <td>22812458.0</td>\n",
       "    </tr>\n",
       "    <tr>\n",
       "      <th>9</th>\n",
       "      <td>FULTON ST</td>\n",
       "      <td>22097288.0</td>\n",
       "    </tr>\n",
       "  </tbody>\n",
       "</table>\n",
       "</div>"
      ],
      "text/plain": [
       "           STATION  DAILY_EXITS\n",
       "0   34 ST-PENN STA   41374891.0\n",
       "1  34 ST-HERALD SQ   31018738.0\n",
       "2  GRD CNTRL-42 ST   28092059.0\n",
       "3   14 ST-UNION SQ   27331358.0\n",
       "4            86 ST   26763640.0\n",
       "5           125 ST   26014132.0\n",
       "6            23 ST   24146234.0\n",
       "7  42 ST-PORT AUTH   22903268.0\n",
       "8   TIMES SQ-42 ST   22812458.0\n",
       "9        FULTON ST   22097288.0"
      ]
     },
     "execution_count": 32,
     "metadata": {},
     "output_type": "execute_result"
    }
   ],
   "source": [
    "#Sum of all Exit values per Station in the year of 2018 sorted from highest.\n",
    "station_totals_21 = station_daily_21.groupby('STATION').sum()\\\n",
    "    .sort_values('DAILY_EXITS', ascending=False)\\\n",
    "    .reset_index()\n",
    "\n",
    "station_totals_21.head(10)"
   ]
  },
  {
   "cell_type": "code",
   "execution_count": 33,
   "metadata": {},
   "outputs": [
    {
     "data": {
      "text/plain": [
       "1521192877.0"
      ]
     },
     "execution_count": 33,
     "metadata": {},
     "output_type": "execute_result"
    }
   ],
   "source": [
    "total_exit_volume_21 = station_totals_21[\"DAILY_EXITS\"].sum()\n",
    "total_exit_volume_21"
   ]
  },
  {
   "cell_type": "code",
   "execution_count": 34,
   "metadata": {},
   "outputs": [
    {
     "data": {
      "text/plain": [
       "0.42606517928781895"
      ]
     },
     "execution_count": 34,
     "metadata": {},
     "output_type": "execute_result"
    }
   ],
   "source": [
    "#Annual ridership drop in 2021 based on 2019 numbers\n",
    "annual_21_ridership_drop = (total_exit_volume_19-total_exit_volume_21)/total_exit_volume_19\n",
    "annual_21_ridership_drop"
   ]
  },
  {
   "cell_type": "code",
   "execution_count": 35,
   "metadata": {},
   "outputs": [],
   "source": [
    "# Sort values for 2022. \n",
    "df_22.sort_values([\"C/A\", \"UNIT\", \"SCP\", \"STATION\", \"DATE_TIME\"], \n",
    "                          inplace=True, ascending=False, ignore_index=True)"
   ]
  },
  {
   "cell_type": "code",
   "execution_count": 36,
   "metadata": {},
   "outputs": [
    {
     "data": {
      "text/html": [
       "<div>\n",
       "<style scoped>\n",
       "    .dataframe tbody tr th:only-of-type {\n",
       "        vertical-align: middle;\n",
       "    }\n",
       "\n",
       "    .dataframe tbody tr th {\n",
       "        vertical-align: top;\n",
       "    }\n",
       "\n",
       "    .dataframe thead th {\n",
       "        text-align: right;\n",
       "    }\n",
       "</style>\n",
       "<table border=\"1\" class=\"dataframe\">\n",
       "  <thead>\n",
       "    <tr style=\"text-align: right;\">\n",
       "      <th></th>\n",
       "      <th>DATE_TIME</th>\n",
       "      <th>C/A</th>\n",
       "      <th>UNIT</th>\n",
       "      <th>SCP</th>\n",
       "      <th>STATION</th>\n",
       "      <th>DATE</th>\n",
       "      <th>TIME</th>\n",
       "      <th>DESC</th>\n",
       "      <th>EXITS</th>\n",
       "    </tr>\n",
       "  </thead>\n",
       "  <tbody>\n",
       "    <tr>\n",
       "      <th>0</th>\n",
       "      <td>2022-03-04 20:00:00</td>\n",
       "      <td>TRAM2</td>\n",
       "      <td>R469</td>\n",
       "      <td>00-05-01</td>\n",
       "      <td>RIT-ROOSEVELT</td>\n",
       "      <td>03/04/2022</td>\n",
       "      <td>20:00:00</td>\n",
       "      <td>REGULAR</td>\n",
       "      <td>23</td>\n",
       "    </tr>\n",
       "    <tr>\n",
       "      <th>1</th>\n",
       "      <td>2022-03-04 16:00:00</td>\n",
       "      <td>TRAM2</td>\n",
       "      <td>R469</td>\n",
       "      <td>00-05-01</td>\n",
       "      <td>RIT-ROOSEVELT</td>\n",
       "      <td>03/04/2022</td>\n",
       "      <td>16:00:00</td>\n",
       "      <td>REGULAR</td>\n",
       "      <td>23</td>\n",
       "    </tr>\n",
       "    <tr>\n",
       "      <th>2</th>\n",
       "      <td>2022-03-04 12:00:00</td>\n",
       "      <td>TRAM2</td>\n",
       "      <td>R469</td>\n",
       "      <td>00-05-01</td>\n",
       "      <td>RIT-ROOSEVELT</td>\n",
       "      <td>03/04/2022</td>\n",
       "      <td>12:00:00</td>\n",
       "      <td>REGULAR</td>\n",
       "      <td>23</td>\n",
       "    </tr>\n",
       "    <tr>\n",
       "      <th>3</th>\n",
       "      <td>2022-03-04 08:00:00</td>\n",
       "      <td>TRAM2</td>\n",
       "      <td>R469</td>\n",
       "      <td>00-05-01</td>\n",
       "      <td>RIT-ROOSEVELT</td>\n",
       "      <td>03/04/2022</td>\n",
       "      <td>08:00:00</td>\n",
       "      <td>REGULAR</td>\n",
       "      <td>23</td>\n",
       "    </tr>\n",
       "    <tr>\n",
       "      <th>4</th>\n",
       "      <td>2022-03-04 04:00:00</td>\n",
       "      <td>TRAM2</td>\n",
       "      <td>R469</td>\n",
       "      <td>00-05-01</td>\n",
       "      <td>RIT-ROOSEVELT</td>\n",
       "      <td>03/04/2022</td>\n",
       "      <td>04:00:00</td>\n",
       "      <td>REGULAR</td>\n",
       "      <td>23</td>\n",
       "    </tr>\n",
       "  </tbody>\n",
       "</table>\n",
       "</div>"
      ],
      "text/plain": [
       "            DATE_TIME    C/A  UNIT       SCP        STATION        DATE  \\\n",
       "0 2022-03-04 20:00:00  TRAM2  R469  00-05-01  RIT-ROOSEVELT  03/04/2022   \n",
       "1 2022-03-04 16:00:00  TRAM2  R469  00-05-01  RIT-ROOSEVELT  03/04/2022   \n",
       "2 2022-03-04 12:00:00  TRAM2  R469  00-05-01  RIT-ROOSEVELT  03/04/2022   \n",
       "3 2022-03-04 08:00:00  TRAM2  R469  00-05-01  RIT-ROOSEVELT  03/04/2022   \n",
       "4 2022-03-04 04:00:00  TRAM2  R469  00-05-01  RIT-ROOSEVELT  03/04/2022   \n",
       "\n",
       "       TIME     DESC  EXITS  \n",
       "0  20:00:00  REGULAR     23  \n",
       "1  16:00:00  REGULAR     23  \n",
       "2  12:00:00  REGULAR     23  \n",
       "3  08:00:00  REGULAR     23  \n",
       "4  04:00:00  REGULAR     23  "
      ]
     },
     "execution_count": 36,
     "metadata": {},
     "output_type": "execute_result"
    }
   ],
   "source": [
    "df_22.head()"
   ]
  },
  {
   "cell_type": "code",
   "execution_count": 37,
   "metadata": {},
   "outputs": [
    {
     "data": {
      "text/html": [
       "<div>\n",
       "<style scoped>\n",
       "    .dataframe tbody tr th:only-of-type {\n",
       "        vertical-align: middle;\n",
       "    }\n",
       "\n",
       "    .dataframe tbody tr th {\n",
       "        vertical-align: top;\n",
       "    }\n",
       "\n",
       "    .dataframe thead th {\n",
       "        text-align: right;\n",
       "    }\n",
       "</style>\n",
       "<table border=\"1\" class=\"dataframe\">\n",
       "  <thead>\n",
       "    <tr style=\"text-align: right;\">\n",
       "      <th></th>\n",
       "      <th>DATE_TIME</th>\n",
       "      <th>C/A</th>\n",
       "      <th>UNIT</th>\n",
       "      <th>SCP</th>\n",
       "      <th>STATION</th>\n",
       "      <th>DATE</th>\n",
       "      <th>TIME</th>\n",
       "      <th>DESC</th>\n",
       "      <th>EXITS</th>\n",
       "    </tr>\n",
       "  </thead>\n",
       "  <tbody>\n",
       "    <tr>\n",
       "      <th>2099587</th>\n",
       "      <td>2021-12-25 19:00:00</td>\n",
       "      <td>A002</td>\n",
       "      <td>R051</td>\n",
       "      <td>02-00-00</td>\n",
       "      <td>59 ST</td>\n",
       "      <td>12/25/2021</td>\n",
       "      <td>19:00:00</td>\n",
       "      <td>REGULAR</td>\n",
       "      <td>2647689</td>\n",
       "    </tr>\n",
       "    <tr>\n",
       "      <th>2099588</th>\n",
       "      <td>2021-12-25 15:00:00</td>\n",
       "      <td>A002</td>\n",
       "      <td>R051</td>\n",
       "      <td>02-00-00</td>\n",
       "      <td>59 ST</td>\n",
       "      <td>12/25/2021</td>\n",
       "      <td>15:00:00</td>\n",
       "      <td>REGULAR</td>\n",
       "      <td>2647662</td>\n",
       "    </tr>\n",
       "    <tr>\n",
       "      <th>2099589</th>\n",
       "      <td>2021-12-25 11:00:00</td>\n",
       "      <td>A002</td>\n",
       "      <td>R051</td>\n",
       "      <td>02-00-00</td>\n",
       "      <td>59 ST</td>\n",
       "      <td>12/25/2021</td>\n",
       "      <td>11:00:00</td>\n",
       "      <td>REGULAR</td>\n",
       "      <td>2647646</td>\n",
       "    </tr>\n",
       "    <tr>\n",
       "      <th>2099590</th>\n",
       "      <td>2021-12-25 07:00:00</td>\n",
       "      <td>A002</td>\n",
       "      <td>R051</td>\n",
       "      <td>02-00-00</td>\n",
       "      <td>59 ST</td>\n",
       "      <td>12/25/2021</td>\n",
       "      <td>07:00:00</td>\n",
       "      <td>REGULAR</td>\n",
       "      <td>2647627</td>\n",
       "    </tr>\n",
       "    <tr>\n",
       "      <th>2099591</th>\n",
       "      <td>2021-12-25 03:00:00</td>\n",
       "      <td>A002</td>\n",
       "      <td>R051</td>\n",
       "      <td>02-00-00</td>\n",
       "      <td>59 ST</td>\n",
       "      <td>12/25/2021</td>\n",
       "      <td>03:00:00</td>\n",
       "      <td>REGULAR</td>\n",
       "      <td>2647624</td>\n",
       "    </tr>\n",
       "  </tbody>\n",
       "</table>\n",
       "</div>"
      ],
      "text/plain": [
       "                  DATE_TIME   C/A  UNIT       SCP STATION        DATE  \\\n",
       "2099587 2021-12-25 19:00:00  A002  R051  02-00-00   59 ST  12/25/2021   \n",
       "2099588 2021-12-25 15:00:00  A002  R051  02-00-00   59 ST  12/25/2021   \n",
       "2099589 2021-12-25 11:00:00  A002  R051  02-00-00   59 ST  12/25/2021   \n",
       "2099590 2021-12-25 07:00:00  A002  R051  02-00-00   59 ST  12/25/2021   \n",
       "2099591 2021-12-25 03:00:00  A002  R051  02-00-00   59 ST  12/25/2021   \n",
       "\n",
       "             TIME     DESC    EXITS  \n",
       "2099587  19:00:00  REGULAR  2647689  \n",
       "2099588  15:00:00  REGULAR  2647662  \n",
       "2099589  11:00:00  REGULAR  2647646  \n",
       "2099590  07:00:00  REGULAR  2647627  \n",
       "2099591  03:00:00  REGULAR  2647624  "
      ]
     },
     "execution_count": 37,
     "metadata": {},
     "output_type": "execute_result"
    }
   ],
   "source": [
    "df_22.tail()"
   ]
  },
  {
   "cell_type": "code",
   "execution_count": 38,
   "metadata": {},
   "outputs": [],
   "source": [
    "#Find max Exit values registered at each turnstile on each day at each station.\n",
    "turnstiles_daily_22 = (df_22\n",
    "                        .groupby([\"C/A\", \"UNIT\", \"SCP\", \"STATION\", \"DATE\"],as_index=False)\n",
    "                        .EXITS.max())"
   ]
  },
  {
   "cell_type": "code",
   "execution_count": 39,
   "metadata": {},
   "outputs": [
    {
     "name": "stderr",
     "output_type": "stream",
     "text": [
      "/tmp/ipykernel_3237/1583246923.py:1: FutureWarning: Indexing with multiple keys (implicitly converted to a tuple of keys) will be deprecated, use a list instead.\n",
      "  turnstiles_daily_22[[\"PREV_DATE\", \"PREV_EXITS\"]] = (turnstiles_daily_22\n"
     ]
    }
   ],
   "source": [
    "turnstiles_daily_22[[\"PREV_DATE\", \"PREV_EXITS\"]] = (turnstiles_daily_22\n",
    "                                                       .groupby([\"C/A\", \"UNIT\", \"SCP\", \"STATION\"])[\"DATE\", \"EXITS\"]\n",
    "                                                       .apply(lambda grp: grp.shift(1)))"
   ]
  },
  {
   "cell_type": "code",
   "execution_count": 40,
   "metadata": {},
   "outputs": [],
   "source": [
    "# Drop the rows for the earliest date in the df\n",
    "turnstiles_daily_22.dropna(subset=[\"PREV_DATE\"], axis=0, inplace=True)"
   ]
  },
  {
   "cell_type": "code",
   "execution_count": 41,
   "metadata": {},
   "outputs": [],
   "source": [
    "turnstiles_daily_22[\"DAILY_EXITS\"] = turnstiles_daily_22.apply(get_daily_counts, axis=1, max_counter=1000000)"
   ]
  },
  {
   "cell_type": "code",
   "execution_count": 42,
   "metadata": {},
   "outputs": [
    {
     "data": {
      "text/html": [
       "<div>\n",
       "<style scoped>\n",
       "    .dataframe tbody tr th:only-of-type {\n",
       "        vertical-align: middle;\n",
       "    }\n",
       "\n",
       "    .dataframe tbody tr th {\n",
       "        vertical-align: top;\n",
       "    }\n",
       "\n",
       "    .dataframe thead th {\n",
       "        text-align: right;\n",
       "    }\n",
       "</style>\n",
       "<table border=\"1\" class=\"dataframe\">\n",
       "  <thead>\n",
       "    <tr style=\"text-align: right;\">\n",
       "      <th></th>\n",
       "      <th>C/A</th>\n",
       "      <th>UNIT</th>\n",
       "      <th>STATION</th>\n",
       "      <th>DATE</th>\n",
       "      <th>DAILY_EXITS</th>\n",
       "    </tr>\n",
       "  </thead>\n",
       "  <tbody>\n",
       "    <tr>\n",
       "      <th>0</th>\n",
       "      <td>A002</td>\n",
       "      <td>R051</td>\n",
       "      <td>59 ST</td>\n",
       "      <td>01/02/2022</td>\n",
       "      <td>2071.0</td>\n",
       "    </tr>\n",
       "    <tr>\n",
       "      <th>1</th>\n",
       "      <td>A002</td>\n",
       "      <td>R051</td>\n",
       "      <td>59 ST</td>\n",
       "      <td>01/03/2022</td>\n",
       "      <td>4240.0</td>\n",
       "    </tr>\n",
       "    <tr>\n",
       "      <th>2</th>\n",
       "      <td>A002</td>\n",
       "      <td>R051</td>\n",
       "      <td>59 ST</td>\n",
       "      <td>01/04/2022</td>\n",
       "      <td>4404.0</td>\n",
       "    </tr>\n",
       "    <tr>\n",
       "      <th>3</th>\n",
       "      <td>A002</td>\n",
       "      <td>R051</td>\n",
       "      <td>59 ST</td>\n",
       "      <td>01/05/2022</td>\n",
       "      <td>4329.0</td>\n",
       "    </tr>\n",
       "    <tr>\n",
       "      <th>4</th>\n",
       "      <td>A002</td>\n",
       "      <td>R051</td>\n",
       "      <td>59 ST</td>\n",
       "      <td>01/06/2022</td>\n",
       "      <td>4478.0</td>\n",
       "    </tr>\n",
       "  </tbody>\n",
       "</table>\n",
       "</div>"
      ],
      "text/plain": [
       "    C/A  UNIT STATION        DATE  DAILY_EXITS\n",
       "0  A002  R051   59 ST  01/02/2022       2071.0\n",
       "1  A002  R051   59 ST  01/03/2022       4240.0\n",
       "2  A002  R051   59 ST  01/04/2022       4404.0\n",
       "3  A002  R051   59 ST  01/05/2022       4329.0\n",
       "4  A002  R051   59 ST  01/06/2022       4478.0"
      ]
     },
     "execution_count": 42,
     "metadata": {},
     "output_type": "execute_result"
    }
   ],
   "source": [
    "# Sum of all Exit values from turnstiles grouped under C/A, Unit and Station\n",
    "ca_unit_station_daily_22 = turnstiles_daily_22.groupby([\"C/A\", \"UNIT\", \"STATION\", \"DATE\"])[['DAILY_EXITS']].sum().reset_index()\n",
    "ca_unit_station_daily_22.head()"
   ]
  },
  {
   "cell_type": "code",
   "execution_count": 43,
   "metadata": {},
   "outputs": [
    {
     "data": {
      "text/html": [
       "<div>\n",
       "<style scoped>\n",
       "    .dataframe tbody tr th:only-of-type {\n",
       "        vertical-align: middle;\n",
       "    }\n",
       "\n",
       "    .dataframe tbody tr th {\n",
       "        vertical-align: top;\n",
       "    }\n",
       "\n",
       "    .dataframe thead th {\n",
       "        text-align: right;\n",
       "    }\n",
       "</style>\n",
       "<table border=\"1\" class=\"dataframe\">\n",
       "  <thead>\n",
       "    <tr style=\"text-align: right;\">\n",
       "      <th></th>\n",
       "      <th>STATION</th>\n",
       "      <th>DATE</th>\n",
       "      <th>DAILY_EXITS</th>\n",
       "    </tr>\n",
       "  </thead>\n",
       "  <tbody>\n",
       "    <tr>\n",
       "      <th>0</th>\n",
       "      <td>1 AV</td>\n",
       "      <td>01/02/2022</td>\n",
       "      <td>8874.0</td>\n",
       "    </tr>\n",
       "    <tr>\n",
       "      <th>1</th>\n",
       "      <td>1 AV</td>\n",
       "      <td>01/03/2022</td>\n",
       "      <td>12474.0</td>\n",
       "    </tr>\n",
       "    <tr>\n",
       "      <th>2</th>\n",
       "      <td>1 AV</td>\n",
       "      <td>01/04/2022</td>\n",
       "      <td>13450.0</td>\n",
       "    </tr>\n",
       "    <tr>\n",
       "      <th>3</th>\n",
       "      <td>1 AV</td>\n",
       "      <td>01/05/2022</td>\n",
       "      <td>13679.0</td>\n",
       "    </tr>\n",
       "    <tr>\n",
       "      <th>4</th>\n",
       "      <td>1 AV</td>\n",
       "      <td>01/06/2022</td>\n",
       "      <td>14687.0</td>\n",
       "    </tr>\n",
       "  </tbody>\n",
       "</table>\n",
       "</div>"
      ],
      "text/plain": [
       "  STATION        DATE  DAILY_EXITS\n",
       "0    1 AV  01/02/2022       8874.0\n",
       "1    1 AV  01/03/2022      12474.0\n",
       "2    1 AV  01/04/2022      13450.0\n",
       "3    1 AV  01/05/2022      13679.0\n",
       "4    1 AV  01/06/2022      14687.0"
      ]
     },
     "execution_count": 43,
     "metadata": {},
     "output_type": "execute_result"
    }
   ],
   "source": [
    "# Sum of all Exit values per Station per day.\n",
    "station_daily_22 = turnstiles_daily_22.groupby([\"STATION\", \"DATE\"])[['DAILY_EXITS']].sum().reset_index()\n",
    "station_daily_22.head()"
   ]
  },
  {
   "cell_type": "code",
   "execution_count": 44,
   "metadata": {},
   "outputs": [
    {
     "data": {
      "text/plain": [
       "(26043, 3)"
      ]
     },
     "execution_count": 44,
     "metadata": {},
     "output_type": "execute_result"
    }
   ],
   "source": [
    "station_daily_22.shape"
   ]
  },
  {
   "cell_type": "code",
   "execution_count": 45,
   "metadata": {},
   "outputs": [
    {
     "data": {
      "text/html": [
       "<div>\n",
       "<style scoped>\n",
       "    .dataframe tbody tr th:only-of-type {\n",
       "        vertical-align: middle;\n",
       "    }\n",
       "\n",
       "    .dataframe tbody tr th {\n",
       "        vertical-align: top;\n",
       "    }\n",
       "\n",
       "    .dataframe thead th {\n",
       "        text-align: right;\n",
       "    }\n",
       "</style>\n",
       "<table border=\"1\" class=\"dataframe\">\n",
       "  <thead>\n",
       "    <tr style=\"text-align: right;\">\n",
       "      <th></th>\n",
       "      <th>STATION</th>\n",
       "      <th>DAILY_EXITS</th>\n",
       "    </tr>\n",
       "  </thead>\n",
       "  <tbody>\n",
       "    <tr>\n",
       "      <th>0</th>\n",
       "      <td>34 ST-PENN STA</td>\n",
       "      <td>8332849.0</td>\n",
       "    </tr>\n",
       "    <tr>\n",
       "      <th>1</th>\n",
       "      <td>GRD CNTRL-42 ST</td>\n",
       "      <td>7956749.0</td>\n",
       "    </tr>\n",
       "    <tr>\n",
       "      <th>2</th>\n",
       "      <td>34 ST-HERALD SQ</td>\n",
       "      <td>6424656.0</td>\n",
       "    </tr>\n",
       "    <tr>\n",
       "      <th>3</th>\n",
       "      <td>23 ST</td>\n",
       "      <td>6060645.0</td>\n",
       "    </tr>\n",
       "    <tr>\n",
       "      <th>4</th>\n",
       "      <td>86 ST</td>\n",
       "      <td>5864747.0</td>\n",
       "    </tr>\n",
       "    <tr>\n",
       "      <th>5</th>\n",
       "      <td>14 ST-UNION SQ</td>\n",
       "      <td>5500938.0</td>\n",
       "    </tr>\n",
       "    <tr>\n",
       "      <th>6</th>\n",
       "      <td>FULTON ST</td>\n",
       "      <td>5485793.0</td>\n",
       "    </tr>\n",
       "    <tr>\n",
       "      <th>7</th>\n",
       "      <td>42 ST-PORT AUTH</td>\n",
       "      <td>5250114.0</td>\n",
       "    </tr>\n",
       "    <tr>\n",
       "      <th>8</th>\n",
       "      <td>TIMES SQ-42 ST</td>\n",
       "      <td>5220188.0</td>\n",
       "    </tr>\n",
       "    <tr>\n",
       "      <th>9</th>\n",
       "      <td>59 ST COLUMBUS</td>\n",
       "      <td>5074345.0</td>\n",
       "    </tr>\n",
       "  </tbody>\n",
       "</table>\n",
       "</div>"
      ],
      "text/plain": [
       "           STATION  DAILY_EXITS\n",
       "0   34 ST-PENN STA    8332849.0\n",
       "1  GRD CNTRL-42 ST    7956749.0\n",
       "2  34 ST-HERALD SQ    6424656.0\n",
       "3            23 ST    6060645.0\n",
       "4            86 ST    5864747.0\n",
       "5   14 ST-UNION SQ    5500938.0\n",
       "6        FULTON ST    5485793.0\n",
       "7  42 ST-PORT AUTH    5250114.0\n",
       "8   TIMES SQ-42 ST    5220188.0\n",
       "9   59 ST COLUMBUS    5074345.0"
      ]
     },
     "execution_count": 45,
     "metadata": {},
     "output_type": "execute_result"
    }
   ],
   "source": [
    "#Sum of all Exit values per Station in the year of 2018 sorted from highest.\n",
    "station_totals_22 = station_daily_22.groupby('STATION').sum()\\\n",
    "    .sort_values('DAILY_EXITS', ascending=False)\\\n",
    "    .reset_index()\n",
    "\n",
    "station_totals_22.head(10)"
   ]
  },
  {
   "cell_type": "code",
   "execution_count": 46,
   "metadata": {},
   "outputs": [],
   "source": [
    "top_10_stations_19 = station_totals_19[\"STATION\"][0:10]\n",
    "top_10_exits_19 = station_totals_19[\"DAILY_EXITS\"][0:10]\n",
    "top_10_stations_20 = station_totals_20[\"STATION\"][0:10]\n",
    "top_10_exits_20 = station_totals_20[\"DAILY_EXITS\"][0:10]\n",
    "top_10_stations_21 = station_totals_21[\"STATION\"][0:10]\n",
    "top_10_exits_21 = station_totals_21[\"DAILY_EXITS\"][0:10]\n",
    "top_10_stations_22 = station_totals_22[\"STATION\"][0:10]\n",
    "top_10_exits_22 = station_totals_22[\"DAILY_EXITS\"][0:10]"
   ]
  },
  {
   "cell_type": "code",
   "execution_count": 47,
   "metadata": {},
   "outputs": [],
   "source": [
    "import matplotlib.pyplot as plt"
   ]
  },
  {
   "cell_type": "code",
   "execution_count": 48,
   "metadata": {},
   "outputs": [
    {
     "data": {
      "image/png": "[encoded data removed]",
      "text/plain": [
       "<Figure size 432x288 with 1 Axes>"
      ]
     },
     "metadata": {
      "needs_background": "light"
     },
     "output_type": "display_data"
    }
   ],
   "source": [
    "color_sch_1 = ['b','g','r','orange','m','y','indigo','lightblue','lightgreen','c']\n",
    "plt.bar(top_10_stations_19,top_10_exits_19, color = color_sch_1)\n",
    "plt.title(\"2019\", fontsize = 16,weight='bold')\n",
    "plt.xlabel('MTA Stations NYC')\n",
    "plt.ylabel('Total Exit Nums')\n",
    "plt.xticks(rotation=90)\n",
    "plt.savefig('top_10_stations_19.jpg', bbox_inches = 'tight');"
   ]
  },
  {
   "cell_type": "code",
   "execution_count": 49,
   "metadata": {},
   "outputs": [
    {
     "data": {
      "image/png": "[encoded data removed]",
      "text/plain": [
       "<Figure size 432x288 with 1 Axes>"
      ]
     },
     "metadata": {
      "needs_background": "light"
     },
     "output_type": "display_data"
    }
   ],
   "source": [
    "color_sch_2 = ['b','r','g','c','lightblue','orange','m','y','k','indigo']\n",
    "plt.bar(top_10_stations_20,top_10_exits_20, color = color_sch_2 )\n",
    "plt.title(\"2020\", fontsize = 16,weight='bold')\n",
    "plt.xlabel('MTA Stations NYC')\n",
    "plt.ylabel('Total Exit Nums')\n",
    "plt.xticks(rotation=90)\n",
    "plt.savefig('top_10_stations_20.jpg', bbox_inches = 'tight');"
   ]
  },
  {
   "cell_type": "code",
   "execution_count": 50,
   "metadata": {},
   "outputs": [
    {
     "data": {
      "image/png": "[encoded data removed]",
      "text/plain": [
       "<Figure size 432x288 with 1 Axes>"
      ]
     },
     "metadata": {
      "needs_background": "light"
     },
     "output_type": "display_data"
    }
   ],
   "source": [
    "color_sch_3 = ['b','r','g','lightblue','c','k','m','indigo','y','orange']\n",
    "plt.bar(top_10_stations_21,top_10_exits_21, color = color_sch_3)\n",
    "plt.title(\"2021\", fontsize = 16,weight='bold')\n",
    "plt.xlabel('MTA Stations NYC')\n",
    "plt.ylabel('Total Exit Nums')\n",
    "plt.xticks(rotation=90)\n",
    "plt.savefig('top_10_stations_21.jpg', bbox_inches = 'tight');"
   ]
  },
  {
   "cell_type": "code",
   "execution_count": 51,
   "metadata": {},
   "outputs": [
    {
     "data": {
      "image/png": "[encoded data removed]",
      "text/plain": [
       "<Figure size 432x288 with 1 Axes>"
      ]
     },
     "metadata": {
      "needs_background": "light"
     },
     "output_type": "display_data"
    }
   ],
   "source": [
    "color_sch_4 = ['b','g','r','m','c','lightblue','orange','indigo','y','lavender']\n",
    "plt.bar(top_10_stations_22,top_10_exits_22, color = color_sch_4)\n",
    "plt.title(\"2022, up to Mar 4th\", fontsize = 16,weight='bold')\n",
    "plt.xlabel('MTA Stations NYC')\n",
    "plt.ylabel('Total Exit Nums')\n",
    "plt.xticks(rotation=90)\n",
    "plt.savefig('top_10_stations_22.jpg', bbox_inches = 'tight');"
   ]
  },
  {
   "cell_type": "markdown",
   "metadata": {},
   "source": [
    "## INITIAL OBSERVATIONS\n",
    "\n",
    "* During pre-pandemic year of 2019, top 10 stations with the highest volumes of exit numbers are major hub stations that mostly serve commuters arriving from NJ, Brooklyn and 86th St Stations that serves Broadway, Central Park and major museums.\n",
    "\n",
    "* During pandemic years of 2020 and 2021, prior top 10 stations show, up to 60% decline in exit numbers. However, 2021 shows improvements over 2020. First two months of exit numbers also show promise and might be an indicator of ridership levels bouncing back to somewhat normal levels.\n",
    "* It seems least decline in exit levels occured in 125 St stations. The areas serving these stations might be an interest for the restaurant chain."
   ]
  },
  {
   "cell_type": "markdown",
   "metadata": {},
   "source": [
    "* Let's plot a timeseries for the top 10 Stations to better observe the changes year over year ridership."
   ]
  },
  {
   "cell_type": "code",
   "execution_count": 66,
   "metadata": {},
   "outputs": [
    {
     "data": {
      "image/png": "[encoded data removed]",
      "text/plain": [
       "<Figure size 432x288 with 1 Axes>"
      ]
     },
     "metadata": {
      "needs_background": "light"
     },
     "output_type": "display_data"
    }
   ],
   "source": [
    "plt.plot(top_10_exits_19)\n",
    "plt.plot(top_10_exits_20)\n",
    "plt.plot(top_10_exits_21)\n",
    "plt.title(\"MTA Top 10 Stations\", fontsize = 16,weight='bold')\n",
    "plt.ylabel('Total Exit Nums')\n",
    "plt.xlabel('Days')\n",
    "plt.legend(['2019','2020','2021'],shadow = True, loc = 1)\n",
    "plt.xticks([])\n",
    "plt.savefig('MTA Annual Exit Data.jpg', bbox_inches = 'tight');"
   ]
  },
  {
   "cell_type": "markdown",
   "metadata": {},
   "source": [
    "* After attempting to plot timeseries data for code manipulated below for 125 ST, it has become apparent that there is an error that is causing a significant anomaly in the exit data. We will need to investigate at a later time."
   ]
  },
  {
   "cell_type": "code",
   "execution_count": 159,
   "metadata": {},
   "outputs": [
    {
     "data": {
      "text/html": [
       "<div>\n",
       "<style scoped>\n",
       "    .dataframe tbody tr th:only-of-type {\n",
       "        vertical-align: middle;\n",
       "    }\n",
       "\n",
       "    .dataframe tbody tr th {\n",
       "        vertical-align: top;\n",
       "    }\n",
       "\n",
       "    .dataframe thead th {\n",
       "        text-align: right;\n",
       "    }\n",
       "</style>\n",
       "<table border=\"1\" class=\"dataframe\">\n",
       "  <thead>\n",
       "    <tr style=\"text-align: right;\">\n",
       "      <th></th>\n",
       "      <th>C/A</th>\n",
       "      <th>UNIT</th>\n",
       "      <th>STATION</th>\n",
       "    </tr>\n",
       "  </thead>\n",
       "  <tbody>\n",
       "    <tr>\n",
       "      <th>0</th>\n",
       "      <td>N025</td>\n",
       "      <td>R102</td>\n",
       "      <td>69</td>\n",
       "    </tr>\n",
       "    <tr>\n",
       "      <th>1</th>\n",
       "      <td>N026</td>\n",
       "      <td>R102</td>\n",
       "      <td>69</td>\n",
       "    </tr>\n",
       "    <tr>\n",
       "      <th>2</th>\n",
       "      <td>R174</td>\n",
       "      <td>R034</td>\n",
       "      <td>69</td>\n",
       "    </tr>\n",
       "    <tr>\n",
       "      <th>3</th>\n",
       "      <td>R258</td>\n",
       "      <td>R132</td>\n",
       "      <td>69</td>\n",
       "    </tr>\n",
       "    <tr>\n",
       "      <th>4</th>\n",
       "      <td>R304</td>\n",
       "      <td>R206</td>\n",
       "      <td>69</td>\n",
       "    </tr>\n",
       "    <tr>\n",
       "      <th>5</th>\n",
       "      <td>R305</td>\n",
       "      <td>R206</td>\n",
       "      <td>69</td>\n",
       "    </tr>\n",
       "  </tbody>\n",
       "</table>\n",
       "</div>"
      ],
      "text/plain": [
       "    C/A  UNIT  STATION\n",
       "0  N025  R102       69\n",
       "1  N026  R102       69\n",
       "2  R174  R034       69\n",
       "3  R258  R132       69\n",
       "4  R304  R206       69\n",
       "5  R305  R206       69"
      ]
     },
     "execution_count": 159,
     "metadata": {},
     "output_type": "execute_result"
    }
   ],
   "source": [
    "#Let's examine 125 St Station. \n",
    "#A quick look at New York City Subway shows that there are a total of four 125 St Stations.\n",
    "# They are located on 1, (A,B,C,D), (2,3) and (4,5,6) lines. \n",
    "# We will create a mask to filter down to 125 St Station in data grouped by C/A, Unit and \n",
    "# Station.\n",
    "\n",
    "mask_125= (ca_unit_station_daily_22[\"STATION\"] == \"125 ST\")\n",
    "\n",
    "ca_unit_station_daily_22_125ST = ca_unit_station_daily_22[mask_125].groupby(['C/A','UNIT']).STATION.count().reset_index()\n",
    "ca_unit_station_daily_22_125ST.head(10)"
   ]
  },
  {
   "cell_type": "markdown",
   "metadata": {},
   "source": [
    "* It appears there are four unique Unit ID's associated with four 125 ST Stations: R102, R034, R132 & R206. We will use these Unit ID's to filter down to each individual 125 ST Station to examine Daily Exit values over different time periods in an effort to establish any patterns that may be be useful in our recommendation to the restaurant chain."
   ]
  },
  {
   "cell_type": "code",
   "execution_count": 160,
   "metadata": {},
   "outputs": [
    {
     "data": {
      "text/html": [
       "<div>\n",
       "<style scoped>\n",
       "    .dataframe tbody tr th:only-of-type {\n",
       "        vertical-align: middle;\n",
       "    }\n",
       "\n",
       "    .dataframe tbody tr th {\n",
       "        vertical-align: top;\n",
       "    }\n",
       "\n",
       "    .dataframe thead th {\n",
       "        text-align: right;\n",
       "    }\n",
       "</style>\n",
       "<table border=\"1\" class=\"dataframe\">\n",
       "  <thead>\n",
       "    <tr style=\"text-align: right;\">\n",
       "      <th></th>\n",
       "      <th>UNIT</th>\n",
       "      <th>STATION</th>\n",
       "      <th>DATE</th>\n",
       "      <th>DAILY_EXITS</th>\n",
       "    </tr>\n",
       "  </thead>\n",
       "  <tbody>\n",
       "    <tr>\n",
       "      <th>0</th>\n",
       "      <td>R102</td>\n",
       "      <td>125 ST</td>\n",
       "      <td>01/02/2019</td>\n",
       "      <td>20642.0</td>\n",
       "    </tr>\n",
       "    <tr>\n",
       "      <th>1</th>\n",
       "      <td>R102</td>\n",
       "      <td>125 ST</td>\n",
       "      <td>01/03/2019</td>\n",
       "      <td>21859.0</td>\n",
       "    </tr>\n",
       "    <tr>\n",
       "      <th>2</th>\n",
       "      <td>R102</td>\n",
       "      <td>125 ST</td>\n",
       "      <td>01/04/2019</td>\n",
       "      <td>22664.0</td>\n",
       "    </tr>\n",
       "    <tr>\n",
       "      <th>3</th>\n",
       "      <td>R102</td>\n",
       "      <td>125 ST</td>\n",
       "      <td>01/05/2019</td>\n",
       "      <td>16113.0</td>\n",
       "    </tr>\n",
       "    <tr>\n",
       "      <th>4</th>\n",
       "      <td>R102</td>\n",
       "      <td>125 ST</td>\n",
       "      <td>01/06/2019</td>\n",
       "      <td>15426.0</td>\n",
       "    </tr>\n",
       "  </tbody>\n",
       "</table>\n",
       "</div>"
      ],
      "text/plain": [
       "   UNIT STATION        DATE  DAILY_EXITS\n",
       "0  R102  125 ST  01/02/2019      20642.0\n",
       "1  R102  125 ST  01/03/2019      21859.0\n",
       "2  R102  125 ST  01/04/2019      22664.0\n",
       "3  R102  125 ST  01/05/2019      16113.0\n",
       "4  R102  125 ST  01/06/2019      15426.0"
      ]
     },
     "execution_count": 160,
     "metadata": {},
     "output_type": "execute_result"
    }
   ],
   "source": [
    "#First let's take a look at annual data for four stations for pre-pandemic vs pandemic periods.\n",
    "\n",
    "mask_R102_125_ST_19 = ((ca_unit_station_daily_19[\"UNIT\"] == \"R102\") & \n",
    "                (ca_unit_station_daily_19[\"STATION\"] == \"125 ST\"))\n",
    "\n",
    "R102_125_ST_daily_19 = ca_unit_station_daily_19[mask_R102_125_ST_19]\\\n",
    "                    .groupby([\"UNIT\",\"STATION\", \"DATE\"])[['DAILY_EXITS']].sum().reset_index()\n",
    "R102_125_ST_daily_19.head()"
   ]
  },
  {
   "cell_type": "code",
   "execution_count": 229,
   "metadata": {},
   "outputs": [],
   "source": [
    "R102_125_ST_daily_19['DATE'] = pd.to_datetime(R102_125_ST_daily_19['DATE'])"
   ]
  },
  {
   "cell_type": "code",
   "execution_count": null,
   "metadata": {},
   "outputs": [],
   "source": []
  },
  {
   "cell_type": "code",
   "execution_count": 161,
   "metadata": {},
   "outputs": [],
   "source": [
    "#Similarly Daily Exit values  for years 2020, 2021 at Unit R102, Station 125 ST.\n",
    "\n",
    "mask_R102_125_ST_20 = ((ca_unit_station_daily_20[\"UNIT\"] == \"R102\") & \n",
    "                (ca_unit_station_daily_20[\"STATION\"] == \"125 ST\"))\n",
    "\n",
    "R102_125_ST_daily_20 = ca_unit_station_daily_20[mask_R102_125_ST_20]\\\n",
    "                    .groupby([\"UNIT\",\"STATION\", \"DATE\"])[['DAILY_EXITS']].sum().reset_index()"
   ]
  },
  {
   "cell_type": "code",
   "execution_count": 231,
   "metadata": {},
   "outputs": [],
   "source": [
    "R102_125_ST_daily_20['DATE'] = pd.to_datetime(R102_125_ST_daily_20['DATE'])"
   ]
  },
  {
   "cell_type": "code",
   "execution_count": 162,
   "metadata": {},
   "outputs": [],
   "source": [
    "mask_R102_125_ST_21 = ((ca_unit_station_daily_21[\"UNIT\"] == \"R102\") & \n",
    "                (ca_unit_station_daily_21[\"STATION\"] == \"125 ST\"))\n",
    "\n",
    "R102_125_ST_daily_21 = ca_unit_station_daily_21[mask_R102_125_ST_21]\\\n",
    "                    .groupby([\"UNIT\",\"STATION\", \"DATE\"])[['DAILY_EXITS']].sum().reset_index()"
   ]
  },
  {
   "cell_type": "code",
   "execution_count": 232,
   "metadata": {},
   "outputs": [],
   "source": [
    "R102_125_ST_daily_21['DATE'] = pd.to_datetime(R102_125_ST_daily_21['DATE'])"
   ]
  },
  {
   "cell_type": "code",
   "execution_count": 163,
   "metadata": {
    "scrolled": true
   },
   "outputs": [
    {
     "data": {
      "text/html": [
       "<div>\n",
       "<style scoped>\n",
       "    .dataframe tbody tr th:only-of-type {\n",
       "        vertical-align: middle;\n",
       "    }\n",
       "\n",
       "    .dataframe tbody tr th {\n",
       "        vertical-align: top;\n",
       "    }\n",
       "\n",
       "    .dataframe thead th {\n",
       "        text-align: right;\n",
       "    }\n",
       "</style>\n",
       "<table border=\"1\" class=\"dataframe\">\n",
       "  <thead>\n",
       "    <tr style=\"text-align: right;\">\n",
       "      <th></th>\n",
       "      <th>UNIT</th>\n",
       "      <th>STATION</th>\n",
       "      <th>DAILY_EXITS</th>\n",
       "    </tr>\n",
       "    <tr>\n",
       "      <th>YEAR</th>\n",
       "      <th></th>\n",
       "      <th></th>\n",
       "      <th></th>\n",
       "    </tr>\n",
       "  </thead>\n",
       "  <tbody>\n",
       "    <tr>\n",
       "      <th>2019</th>\n",
       "      <td>R102</td>\n",
       "      <td>125 ST</td>\n",
       "      <td>13692209.0</td>\n",
       "    </tr>\n",
       "    <tr>\n",
       "      <th>2020</th>\n",
       "      <td>R102</td>\n",
       "      <td>125 ST</td>\n",
       "      <td>7485702.0</td>\n",
       "    </tr>\n",
       "    <tr>\n",
       "      <th>2021</th>\n",
       "      <td>R102</td>\n",
       "      <td>125 ST</td>\n",
       "      <td>9358117.0</td>\n",
       "    </tr>\n",
       "  </tbody>\n",
       "</table>\n",
       "</div>"
      ],
      "text/plain": [
       "      UNIT STATION  DAILY_EXITS\n",
       "YEAR                           \n",
       "2019  R102  125 ST   13692209.0\n",
       "2020  R102  125 ST    7485702.0\n",
       "2021  R102  125 ST    9358117.0"
      ]
     },
     "execution_count": 163,
     "metadata": {},
     "output_type": "execute_result"
    }
   ],
   "source": [
    "#For annual total numbers Unit R102 125 ST Station:\n",
    "station_totals_R102_125_ST_19 = R102_125_ST_daily_19.groupby(['UNIT','STATION']).sum()\\\n",
    "                                .sort_values('DAILY_EXITS', ascending=False)\\\n",
    "                                .reset_index()\n",
    "\n",
    "station_totals_R102_125_ST_20 = R102_125_ST_daily_20.groupby(['UNIT','STATION']).sum()\\\n",
    "                                .sort_values('DAILY_EXITS', ascending=False)\\\n",
    "                                .reset_index()\n",
    "\n",
    "station_totals_R102_125_ST_21 = R102_125_ST_daily_21.groupby(['UNIT','STATION']).sum()\\\n",
    "                                .sort_values('DAILY_EXITS', ascending=False)\\\n",
    "                                .reset_index()\n",
    "\n",
    "station_totals_R102_125_ST = pd.concat([station_totals_R102_125_ST_19, station_totals_R102_125_ST_20, station_totals_R102_125_ST_21], ignore_index=True)\n",
    "\n",
    "station_totals_R102_125_ST[\"YEAR\"] = ['2019','2020','2021']\n",
    "\n",
    "station_totals_R102_125_ST.set_index(\"YEAR\", inplace = True)\n",
    "\n",
    "station_totals_R102_125_ST.head()"
   ]
  },
  {
   "cell_type": "code",
   "execution_count": 164,
   "metadata": {},
   "outputs": [
    {
     "data": {
      "text/html": [
       "<div>\n",
       "<style scoped>\n",
       "    .dataframe tbody tr th:only-of-type {\n",
       "        vertical-align: middle;\n",
       "    }\n",
       "\n",
       "    .dataframe tbody tr th {\n",
       "        vertical-align: top;\n",
       "    }\n",
       "\n",
       "    .dataframe thead th {\n",
       "        text-align: right;\n",
       "    }\n",
       "</style>\n",
       "<table border=\"1\" class=\"dataframe\">\n",
       "  <thead>\n",
       "    <tr style=\"text-align: right;\">\n",
       "      <th></th>\n",
       "      <th>UNIT</th>\n",
       "      <th>STATION</th>\n",
       "      <th>DATE</th>\n",
       "      <th>DAILY_EXITS</th>\n",
       "    </tr>\n",
       "  </thead>\n",
       "  <tbody>\n",
       "    <tr>\n",
       "      <th>0</th>\n",
       "      <td>R034</td>\n",
       "      <td>125 ST</td>\n",
       "      <td>01/02/2019</td>\n",
       "      <td>6797.0</td>\n",
       "    </tr>\n",
       "    <tr>\n",
       "      <th>1</th>\n",
       "      <td>R034</td>\n",
       "      <td>125 ST</td>\n",
       "      <td>01/03/2019</td>\n",
       "      <td>7174.0</td>\n",
       "    </tr>\n",
       "    <tr>\n",
       "      <th>2</th>\n",
       "      <td>R034</td>\n",
       "      <td>125 ST</td>\n",
       "      <td>01/04/2019</td>\n",
       "      <td>7082.0</td>\n",
       "    </tr>\n",
       "    <tr>\n",
       "      <th>3</th>\n",
       "      <td>R034</td>\n",
       "      <td>125 ST</td>\n",
       "      <td>01/05/2019</td>\n",
       "      <td>5439.0</td>\n",
       "    </tr>\n",
       "    <tr>\n",
       "      <th>4</th>\n",
       "      <td>R034</td>\n",
       "      <td>125 ST</td>\n",
       "      <td>01/06/2019</td>\n",
       "      <td>5198.0</td>\n",
       "    </tr>\n",
       "  </tbody>\n",
       "</table>\n",
       "</div>"
      ],
      "text/plain": [
       "   UNIT STATION        DATE  DAILY_EXITS\n",
       "0  R034  125 ST  01/02/2019       6797.0\n",
       "1  R034  125 ST  01/03/2019       7174.0\n",
       "2  R034  125 ST  01/04/2019       7082.0\n",
       "3  R034  125 ST  01/05/2019       5439.0\n",
       "4  R034  125 ST  01/06/2019       5198.0"
      ]
     },
     "execution_count": 164,
     "metadata": {},
     "output_type": "execute_result"
    }
   ],
   "source": [
    "mask_R034_125_ST_19 = ((ca_unit_station_daily_19[\"UNIT\"] == \"R034\") & \n",
    "                (ca_unit_station_daily_19[\"STATION\"] == \"125 ST\"))\n",
    "\n",
    "R034_125_ST_daily_19 = ca_unit_station_daily_19[mask_R034_125_ST_19]\\\n",
    "                    .groupby([\"UNIT\",\"STATION\", \"DATE\"])[['DAILY_EXITS']].sum().reset_index()\n",
    "R034_125_ST_daily_19.head()"
   ]
  },
  {
   "cell_type": "code",
   "execution_count": 233,
   "metadata": {},
   "outputs": [],
   "source": [
    "R034_125_ST_daily_19['DATE'] = pd.to_datetime(R034_125_ST_daily_19['DATE'])"
   ]
  },
  {
   "cell_type": "code",
   "execution_count": 165,
   "metadata": {},
   "outputs": [],
   "source": [
    "#Similarly Daily Exit values  for years 2020, 2021 at Unit R034, Station 125 ST.\n",
    "\n",
    "mask_R034_125_ST_20 = ((ca_unit_station_daily_20[\"UNIT\"] == \"R034\") & \n",
    "                (ca_unit_station_daily_20[\"STATION\"] == \"125 ST\"))\n",
    "\n",
    "R034_125_ST_daily_20 = ca_unit_station_daily_20[mask_R034_125_ST_20]\\\n",
    "                    .groupby([\"UNIT\",\"STATION\", \"DATE\"])[['DAILY_EXITS']].sum().reset_index()\n",
    "\n",
    "mask_R034_125_ST_21 = ((ca_unit_station_daily_21[\"UNIT\"] == \"R034\") & \n",
    "                (ca_unit_station_daily_21[\"STATION\"] == \"125 ST\"))\n",
    "\n",
    "R034_125_ST_daily_21 = ca_unit_station_daily_21[mask_R034_125_ST_21]\\\n",
    "                    .groupby([\"UNIT\",\"STATION\", \"DATE\"])[['DAILY_EXITS']].sum().reset_index()\n",
    "\n"
   ]
  },
  {
   "cell_type": "code",
   "execution_count": 234,
   "metadata": {},
   "outputs": [],
   "source": [
    "R034_125_ST_daily_20['DATE'] = pd.to_datetime(R034_125_ST_daily_20['DATE'])\n",
    "R034_125_ST_daily_21['DATE'] = pd.to_datetime(R034_125_ST_daily_21['DATE'])"
   ]
  },
  {
   "cell_type": "code",
   "execution_count": 166,
   "metadata": {},
   "outputs": [
    {
     "data": {
      "text/html": [
       "<div>\n",
       "<style scoped>\n",
       "    .dataframe tbody tr th:only-of-type {\n",
       "        vertical-align: middle;\n",
       "    }\n",
       "\n",
       "    .dataframe tbody tr th {\n",
       "        vertical-align: top;\n",
       "    }\n",
       "\n",
       "    .dataframe thead th {\n",
       "        text-align: right;\n",
       "    }\n",
       "</style>\n",
       "<table border=\"1\" class=\"dataframe\">\n",
       "  <thead>\n",
       "    <tr style=\"text-align: right;\">\n",
       "      <th></th>\n",
       "      <th>UNIT</th>\n",
       "      <th>STATION</th>\n",
       "      <th>DAILY_EXITS</th>\n",
       "    </tr>\n",
       "    <tr>\n",
       "      <th>YEAR</th>\n",
       "      <th></th>\n",
       "      <th></th>\n",
       "      <th></th>\n",
       "    </tr>\n",
       "  </thead>\n",
       "  <tbody>\n",
       "    <tr>\n",
       "      <th>2019</th>\n",
       "      <td>R034</td>\n",
       "      <td>125 ST</td>\n",
       "      <td>4628056.0</td>\n",
       "    </tr>\n",
       "    <tr>\n",
       "      <th>2020</th>\n",
       "      <td>R034</td>\n",
       "      <td>125 ST</td>\n",
       "      <td>2264629.0</td>\n",
       "    </tr>\n",
       "    <tr>\n",
       "      <th>2021</th>\n",
       "      <td>R034</td>\n",
       "      <td>125 ST</td>\n",
       "      <td>2685557.0</td>\n",
       "    </tr>\n",
       "  </tbody>\n",
       "</table>\n",
       "</div>"
      ],
      "text/plain": [
       "      UNIT STATION  DAILY_EXITS\n",
       "YEAR                           \n",
       "2019  R034  125 ST    4628056.0\n",
       "2020  R034  125 ST    2264629.0\n",
       "2021  R034  125 ST    2685557.0"
      ]
     },
     "execution_count": 166,
     "metadata": {},
     "output_type": "execute_result"
    }
   ],
   "source": [
    "station_totals_R034_125_ST_19 = R034_125_ST_daily_19.groupby(['UNIT','STATION']).sum()\\\n",
    "                                .sort_values('DAILY_EXITS', ascending=False)\\\n",
    "                                .reset_index()\n",
    "\n",
    "station_totals_R034_125_ST_20 = R034_125_ST_daily_20.groupby(['UNIT','STATION']).sum()\\\n",
    "                                .sort_values('DAILY_EXITS', ascending=False)\\\n",
    "                                .reset_index()\n",
    "\n",
    "station_totals_R034_125_ST_21 = R034_125_ST_daily_21.groupby(['UNIT','STATION']).sum()\\\n",
    "                                .sort_values('DAILY_EXITS', ascending=False)\\\n",
    "                                .reset_index()\n",
    "\n",
    "station_totals_R034_125_ST = pd.concat([station_totals_R034_125_ST_19, station_totals_R034_125_ST_20, station_totals_R034_125_ST_21], ignore_index=True)\n",
    "\n",
    "station_totals_R034_125_ST[\"YEAR\"] = ['2019','2020','2021']\n",
    "\n",
    "station_totals_R034_125_ST.set_index(\"YEAR\", inplace = True)\n",
    "\n",
    "station_totals_R034_125_ST.head()"
   ]
  },
  {
   "cell_type": "markdown",
   "metadata": {},
   "source": [
    "*Annual Exit volumes are less than half of R102 at Unit R034.We will skip R034 and proceed to examining Unit R132."
   ]
  },
  {
   "cell_type": "code",
   "execution_count": 167,
   "metadata": {},
   "outputs": [
    {
     "data": {
      "text/html": [
       "<div>\n",
       "<style scoped>\n",
       "    .dataframe tbody tr th:only-of-type {\n",
       "        vertical-align: middle;\n",
       "    }\n",
       "\n",
       "    .dataframe tbody tr th {\n",
       "        vertical-align: top;\n",
       "    }\n",
       "\n",
       "    .dataframe thead th {\n",
       "        text-align: right;\n",
       "    }\n",
       "</style>\n",
       "<table border=\"1\" class=\"dataframe\">\n",
       "  <thead>\n",
       "    <tr style=\"text-align: right;\">\n",
       "      <th></th>\n",
       "      <th>UNIT</th>\n",
       "      <th>STATION</th>\n",
       "      <th>DATE</th>\n",
       "      <th>DAILY_EXITS</th>\n",
       "    </tr>\n",
       "  </thead>\n",
       "  <tbody>\n",
       "    <tr>\n",
       "      <th>0</th>\n",
       "      <td>R132</td>\n",
       "      <td>125 ST</td>\n",
       "      <td>01/02/2019</td>\n",
       "      <td>20137.0</td>\n",
       "    </tr>\n",
       "    <tr>\n",
       "      <th>1</th>\n",
       "      <td>R132</td>\n",
       "      <td>125 ST</td>\n",
       "      <td>01/03/2019</td>\n",
       "      <td>22376.0</td>\n",
       "    </tr>\n",
       "    <tr>\n",
       "      <th>2</th>\n",
       "      <td>R132</td>\n",
       "      <td>125 ST</td>\n",
       "      <td>01/04/2019</td>\n",
       "      <td>22834.0</td>\n",
       "    </tr>\n",
       "    <tr>\n",
       "      <th>3</th>\n",
       "      <td>R132</td>\n",
       "      <td>125 ST</td>\n",
       "      <td>01/05/2019</td>\n",
       "      <td>16718.0</td>\n",
       "    </tr>\n",
       "    <tr>\n",
       "      <th>4</th>\n",
       "      <td>R132</td>\n",
       "      <td>125 ST</td>\n",
       "      <td>01/06/2019</td>\n",
       "      <td>14714.0</td>\n",
       "    </tr>\n",
       "  </tbody>\n",
       "</table>\n",
       "</div>"
      ],
      "text/plain": [
       "   UNIT STATION        DATE  DAILY_EXITS\n",
       "0  R132  125 ST  01/02/2019      20137.0\n",
       "1  R132  125 ST  01/03/2019      22376.0\n",
       "2  R132  125 ST  01/04/2019      22834.0\n",
       "3  R132  125 ST  01/05/2019      16718.0\n",
       "4  R132  125 ST  01/06/2019      14714.0"
      ]
     },
     "execution_count": 167,
     "metadata": {},
     "output_type": "execute_result"
    }
   ],
   "source": [
    "mask_R132_125_ST_19 = ((ca_unit_station_daily_19[\"UNIT\"] == \"R132\") & \n",
    "                (ca_unit_station_daily_19[\"STATION\"] == \"125 ST\"))\n",
    "\n",
    "R132_125_ST_daily_19 = ca_unit_station_daily_19[mask_R132_125_ST_19]\\\n",
    "                    .groupby([\"UNIT\",\"STATION\", \"DATE\"])[['DAILY_EXITS']].sum().reset_index()\n",
    "R132_125_ST_daily_19.head()"
   ]
  },
  {
   "cell_type": "code",
   "execution_count": 235,
   "metadata": {},
   "outputs": [],
   "source": [
    "R132_125_ST_daily_19['DATE'] = pd.to_datetime(R132_125_ST_daily_19['DATE'])"
   ]
  },
  {
   "cell_type": "code",
   "execution_count": 168,
   "metadata": {},
   "outputs": [],
   "source": [
    "#Similarly Daily Exit values  for years 2020, 2021 at Unit R132, Station 125 ST.\n",
    "\n",
    "mask_R132_125_ST_20 = ((ca_unit_station_daily_20[\"UNIT\"] == \"R132\") & \n",
    "                (ca_unit_station_daily_20[\"STATION\"] == \"125 ST\"))\n",
    "\n",
    "R132_125_ST_daily_20 = ca_unit_station_daily_20[mask_R132_125_ST_20]\\\n",
    "                    .groupby([\"UNIT\",\"STATION\", \"DATE\"])[['DAILY_EXITS']].sum().reset_index()\n",
    "\n",
    "mask_R132_125_ST_21 = ((ca_unit_station_daily_21[\"UNIT\"] == \"R132\") & \n",
    "                (ca_unit_station_daily_21[\"STATION\"] == \"125 ST\"))\n",
    "\n",
    "R132_125_ST_daily_21 = ca_unit_station_daily_21[mask_R132_125_ST_21]\\\n",
    "                    .groupby([\"UNIT\",\"STATION\", \"DATE\"])[['DAILY_EXITS']].sum().reset_index()"
   ]
  },
  {
   "cell_type": "code",
   "execution_count": 236,
   "metadata": {},
   "outputs": [],
   "source": [
    "R132_125_ST_daily_20['DATE'] = pd.to_datetime(R132_125_ST_daily_20['DATE'])\n",
    "R132_125_ST_daily_21['DATE'] = pd.to_datetime(R132_125_ST_daily_21['DATE'])"
   ]
  },
  {
   "cell_type": "code",
   "execution_count": 169,
   "metadata": {},
   "outputs": [
    {
     "data": {
      "text/html": [
       "<div>\n",
       "<style scoped>\n",
       "    .dataframe tbody tr th:only-of-type {\n",
       "        vertical-align: middle;\n",
       "    }\n",
       "\n",
       "    .dataframe tbody tr th {\n",
       "        vertical-align: top;\n",
       "    }\n",
       "\n",
       "    .dataframe thead th {\n",
       "        text-align: right;\n",
       "    }\n",
       "</style>\n",
       "<table border=\"1\" class=\"dataframe\">\n",
       "  <thead>\n",
       "    <tr style=\"text-align: right;\">\n",
       "      <th></th>\n",
       "      <th>UNIT</th>\n",
       "      <th>STATION</th>\n",
       "      <th>DAILY_EXITS</th>\n",
       "    </tr>\n",
       "    <tr>\n",
       "      <th>YEAR</th>\n",
       "      <th></th>\n",
       "      <th></th>\n",
       "      <th></th>\n",
       "    </tr>\n",
       "  </thead>\n",
       "  <tbody>\n",
       "    <tr>\n",
       "      <th>2019</th>\n",
       "      <td>R132</td>\n",
       "      <td>125 ST</td>\n",
       "      <td>12175759.0</td>\n",
       "    </tr>\n",
       "    <tr>\n",
       "      <th>2020</th>\n",
       "      <td>R132</td>\n",
       "      <td>125 ST</td>\n",
       "      <td>7553178.0</td>\n",
       "    </tr>\n",
       "    <tr>\n",
       "      <th>2021</th>\n",
       "      <td>R132</td>\n",
       "      <td>125 ST</td>\n",
       "      <td>9960115.0</td>\n",
       "    </tr>\n",
       "  </tbody>\n",
       "</table>\n",
       "</div>"
      ],
      "text/plain": [
       "      UNIT STATION  DAILY_EXITS\n",
       "YEAR                           \n",
       "2019  R132  125 ST   12175759.0\n",
       "2020  R132  125 ST    7553178.0\n",
       "2021  R132  125 ST    9960115.0"
      ]
     },
     "execution_count": 169,
     "metadata": {},
     "output_type": "execute_result"
    }
   ],
   "source": [
    "station_totals_R132_125_ST_19 = R132_125_ST_daily_19.groupby(['UNIT','STATION']).sum()\\\n",
    "                                .sort_values('DAILY_EXITS', ascending=False)\\\n",
    "                                .reset_index()\n",
    "\n",
    "station_totals_R132_125_ST_20 = R132_125_ST_daily_20.groupby(['UNIT','STATION']).sum()\\\n",
    "                                .sort_values('DAILY_EXITS', ascending=False)\\\n",
    "                                .reset_index()\n",
    "\n",
    "station_totals_R132_125_ST_21 = R132_125_ST_daily_21.groupby(['UNIT','STATION']).sum()\\\n",
    "                                .sort_values('DAILY_EXITS', ascending=False)\\\n",
    "                                .reset_index()\n",
    "\n",
    "station_totals_R132_125_ST = pd.concat([station_totals_R132_125_ST_19, station_totals_R132_125_ST_20, station_totals_R132_125_ST_21], ignore_index=True)\n",
    "\n",
    "station_totals_R132_125_ST[\"YEAR\"] = ['2019','2020','2021']\n",
    "\n",
    "station_totals_R132_125_ST.set_index(\"YEAR\", inplace = True)\n",
    "\n",
    "station_totals_R132_125_ST.head()"
   ]
  },
  {
   "cell_type": "markdown",
   "metadata": {},
   "source": [
    "* Annual Exit volumes at Unit R132 are comparable with Unit R102. We will note and proceed to examining Unit R206."
   ]
  },
  {
   "cell_type": "code",
   "execution_count": 170,
   "metadata": {},
   "outputs": [
    {
     "data": {
      "text/html": [
       "<div>\n",
       "<style scoped>\n",
       "    .dataframe tbody tr th:only-of-type {\n",
       "        vertical-align: middle;\n",
       "    }\n",
       "\n",
       "    .dataframe tbody tr th {\n",
       "        vertical-align: top;\n",
       "    }\n",
       "\n",
       "    .dataframe thead th {\n",
       "        text-align: right;\n",
       "    }\n",
       "</style>\n",
       "<table border=\"1\" class=\"dataframe\">\n",
       "  <thead>\n",
       "    <tr style=\"text-align: right;\">\n",
       "      <th></th>\n",
       "      <th>UNIT</th>\n",
       "      <th>STATION</th>\n",
       "      <th>DATE</th>\n",
       "      <th>DAILY_EXITS</th>\n",
       "    </tr>\n",
       "  </thead>\n",
       "  <tbody>\n",
       "    <tr>\n",
       "      <th>0</th>\n",
       "      <td>R206</td>\n",
       "      <td>125 ST</td>\n",
       "      <td>01/02/2019</td>\n",
       "      <td>5557.0</td>\n",
       "    </tr>\n",
       "    <tr>\n",
       "      <th>1</th>\n",
       "      <td>R206</td>\n",
       "      <td>125 ST</td>\n",
       "      <td>01/03/2019</td>\n",
       "      <td>5946.0</td>\n",
       "    </tr>\n",
       "    <tr>\n",
       "      <th>2</th>\n",
       "      <td>R206</td>\n",
       "      <td>125 ST</td>\n",
       "      <td>01/04/2019</td>\n",
       "      <td>6283.0</td>\n",
       "    </tr>\n",
       "    <tr>\n",
       "      <th>3</th>\n",
       "      <td>R206</td>\n",
       "      <td>125 ST</td>\n",
       "      <td>01/05/2019</td>\n",
       "      <td>970.0</td>\n",
       "    </tr>\n",
       "    <tr>\n",
       "      <th>4</th>\n",
       "      <td>R206</td>\n",
       "      <td>125 ST</td>\n",
       "      <td>01/06/2019</td>\n",
       "      <td>70.0</td>\n",
       "    </tr>\n",
       "  </tbody>\n",
       "</table>\n",
       "</div>"
      ],
      "text/plain": [
       "   UNIT STATION        DATE  DAILY_EXITS\n",
       "0  R206  125 ST  01/02/2019       5557.0\n",
       "1  R206  125 ST  01/03/2019       5946.0\n",
       "2  R206  125 ST  01/04/2019       6283.0\n",
       "3  R206  125 ST  01/05/2019        970.0\n",
       "4  R206  125 ST  01/06/2019         70.0"
      ]
     },
     "execution_count": 170,
     "metadata": {},
     "output_type": "execute_result"
    }
   ],
   "source": [
    "mask_R206_125_ST_19 = ((ca_unit_station_daily_19[\"UNIT\"] == \"R206\") & \n",
    "                (ca_unit_station_daily_19[\"STATION\"] == \"125 ST\"))\n",
    "\n",
    "R206_125_ST_daily_19 = ca_unit_station_daily_19[mask_R206_125_ST_19]\\\n",
    "                    .groupby([\"UNIT\",\"STATION\", \"DATE\"])[['DAILY_EXITS']].sum().reset_index()\n",
    "R206_125_ST_daily_19.head()"
   ]
  },
  {
   "cell_type": "code",
   "execution_count": 237,
   "metadata": {},
   "outputs": [],
   "source": [
    "R206_125_ST_daily_19['DATE'] = pd.to_datetime(R206_125_ST_daily_19['DATE'])"
   ]
  },
  {
   "cell_type": "code",
   "execution_count": 171,
   "metadata": {},
   "outputs": [],
   "source": [
    "#Similarly Daily Exit values  for years 2020, 2021 at Unit R206, Station 125 ST.\n",
    "\n",
    "mask_R206_125_ST_20 = ((ca_unit_station_daily_20[\"UNIT\"] == \"R206\") & \n",
    "                (ca_unit_station_daily_20[\"STATION\"] == \"125 ST\"))\n",
    "\n",
    "R206_125_ST_daily_20 = ca_unit_station_daily_20[mask_R206_125_ST_20]\\\n",
    "                    .groupby([\"UNIT\",\"STATION\", \"DATE\"])[['DAILY_EXITS']].sum().reset_index()\n",
    "\n",
    "mask_R206_125_ST_21 = ((ca_unit_station_daily_21[\"UNIT\"] == \"R206\") & \n",
    "                (ca_unit_station_daily_21[\"STATION\"] == \"125 ST\"))\n",
    "\n",
    "R206_125_ST_daily_21 = ca_unit_station_daily_21[mask_R206_125_ST_21]\\\n",
    "                    .groupby([\"UNIT\",\"STATION\", \"DATE\"])[['DAILY_EXITS']].sum().reset_index()"
   ]
  },
  {
   "cell_type": "code",
   "execution_count": 238,
   "metadata": {},
   "outputs": [],
   "source": [
    "R206_125_ST_daily_20['DATE'] = pd.to_datetime(R206_125_ST_daily_20['DATE'])\n",
    "R206_125_ST_daily_21['DATE'] = pd.to_datetime(R206_125_ST_daily_21['DATE'])"
   ]
  },
  {
   "cell_type": "code",
   "execution_count": 172,
   "metadata": {},
   "outputs": [
    {
     "data": {
      "text/html": [
       "<div>\n",
       "<style scoped>\n",
       "    .dataframe tbody tr th:only-of-type {\n",
       "        vertical-align: middle;\n",
       "    }\n",
       "\n",
       "    .dataframe tbody tr th {\n",
       "        vertical-align: top;\n",
       "    }\n",
       "\n",
       "    .dataframe thead th {\n",
       "        text-align: right;\n",
       "    }\n",
       "</style>\n",
       "<table border=\"1\" class=\"dataframe\">\n",
       "  <thead>\n",
       "    <tr style=\"text-align: right;\">\n",
       "      <th></th>\n",
       "      <th>UNIT</th>\n",
       "      <th>STATION</th>\n",
       "      <th>DAILY_EXITS</th>\n",
       "    </tr>\n",
       "    <tr>\n",
       "      <th>YEAR</th>\n",
       "      <th></th>\n",
       "      <th></th>\n",
       "      <th></th>\n",
       "    </tr>\n",
       "  </thead>\n",
       "  <tbody>\n",
       "    <tr>\n",
       "      <th>2019</th>\n",
       "      <td>R206</td>\n",
       "      <td>125 ST</td>\n",
       "      <td>3970911.0</td>\n",
       "    </tr>\n",
       "    <tr>\n",
       "      <th>2020</th>\n",
       "      <td>R206</td>\n",
       "      <td>125 ST</td>\n",
       "      <td>2429379.0</td>\n",
       "    </tr>\n",
       "    <tr>\n",
       "      <th>2021</th>\n",
       "      <td>R206</td>\n",
       "      <td>125 ST</td>\n",
       "      <td>4010343.0</td>\n",
       "    </tr>\n",
       "  </tbody>\n",
       "</table>\n",
       "</div>"
      ],
      "text/plain": [
       "      UNIT STATION  DAILY_EXITS\n",
       "YEAR                           \n",
       "2019  R206  125 ST    3970911.0\n",
       "2020  R206  125 ST    2429379.0\n",
       "2021  R206  125 ST    4010343.0"
      ]
     },
     "execution_count": 172,
     "metadata": {},
     "output_type": "execute_result"
    }
   ],
   "source": [
    "station_totals_R206_125_ST_19 = R206_125_ST_daily_19.groupby(['UNIT','STATION']).sum()\\\n",
    "                                .sort_values('DAILY_EXITS', ascending=False)\\\n",
    "                                .reset_index()\n",
    "\n",
    "station_totals_R206_125_ST_20 = R206_125_ST_daily_20.groupby(['UNIT','STATION']).sum()\\\n",
    "                                .sort_values('DAILY_EXITS', ascending=False)\\\n",
    "                                .reset_index()\n",
    "\n",
    "station_totals_R206_125_ST_21 = R206_125_ST_daily_21.groupby(['UNIT','STATION']).sum()\\\n",
    "                                .sort_values('DAILY_EXITS', ascending=False)\\\n",
    "                                .reset_index()\n",
    "\n",
    "station_totals_R206_125_ST = pd.concat([station_totals_R206_125_ST_19, station_totals_R206_125_ST_20, station_totals_R206_125_ST_21], ignore_index=True)\n",
    "\n",
    "station_totals_R206_125_ST[\"YEAR\"] = ['2019','2020','2021']\n",
    "\n",
    "station_totals_R206_125_ST.set_index(\"YEAR\", inplace = True)\n",
    "\n",
    "station_totals_R206_125_ST.head()"
   ]
  },
  {
   "cell_type": "markdown",
   "metadata": {},
   "source": [
    "*Annual Exit volumes of Unit R206 are less than 1/3 of Unit R102 vs R132. We will now focus on Unit R102 and R132 to determine trip patterns if we can."
   ]
  },
  {
   "cell_type": "code",
   "execution_count": 173,
   "metadata": {},
   "outputs": [],
   "source": [
    "import numpy as np"
   ]
  },
  {
   "cell_type": "code",
   "execution_count": 240,
   "metadata": {},
   "outputs": [
    {
     "data": {
      "text/plain": [
       "UNIT                   object\n",
       "STATION                object\n",
       "DATE           datetime64[ns]\n",
       "DAILY_EXITS           float64\n",
       "dtype: object"
      ]
     },
     "execution_count": 240,
     "metadata": {},
     "output_type": "execute_result"
    }
   ],
   "source": [
    "R102_125_ST_daily_19.dtypes"
   ]
  },
  {
   "cell_type": "code",
   "execution_count": 241,
   "metadata": {},
   "outputs": [
    {
     "data": {
      "image/png": "[encoded data removed]",
      "text/plain": [
       "<Figure size 432x288 with 1 Axes>"
      ]
     },
     "metadata": {
      "needs_background": "light"
     },
     "output_type": "display_data"
    }
   ],
   "source": [
    "plt.plot(R102_125_ST_daily_19.DATE,R102_125_ST_daily_19.DAILY_EXITS)\n",
    "plt.title(\"2019-R102-125 ST\", fontsize = 16,weight='bold')\n",
    "plt.ylabel('Total Exit Nums')\n",
    "ticks_x = np.linspace(0, 364, 12)\n",
    "months = ['Jan','Feb','Mar','Apr','May','Jun','Jul','Aug','Sep','Oct','Nov','Dec']\n",
    "\n",
    "plt.savefig('(R102_125_ST_daily_19.jpg', bbox_inches = 'tight');"
   ]
  },
  {
   "cell_type": "markdown",
   "metadata": {},
   "source": [
    "* It appears there is an error in the data compiled for 125 ST, so will abort this attempt for now and focus on plotting a time series for the top 10 stations."
   ]
  },
  {
   "cell_type": "code",
   "execution_count": 175,
   "metadata": {},
   "outputs": [
    {
     "data": {
      "text/plain": [
       "24085.0"
      ]
     },
     "execution_count": 175,
     "metadata": {},
     "output_type": "execute_result"
    }
   ],
   "source": [
    "R102_125_ST_daily_19_median = np.median(R102_125_ST_daily_19[\"DAILY_EXITS\"], axis=0)\n",
    "R102_125_ST_daily_19_median"
   ]
  },
  {
   "cell_type": "code",
   "execution_count": 176,
   "metadata": {},
   "outputs": [
    {
     "data": {
      "text/plain": [
       "13692209.0"
      ]
     },
     "execution_count": 176,
     "metadata": {},
     "output_type": "execute_result"
    }
   ],
   "source": [
    "R102_125_ST_annual_19_total = R102_125_ST_daily_19[\"DAILY_EXITS\"].sum()\n",
    "R102_125_ST_annual_19_total"
   ]
  },
  {
   "cell_type": "code",
   "execution_count": 177,
   "metadata": {},
   "outputs": [
    {
     "data": {
      "image/png": "[encoded data removed]",
      "text/plain": [
       "<Figure size 432x288 with 1 Axes>"
      ]
     },
     "metadata": {
      "needs_background": "light"
     },
     "output_type": "display_data"
    }
   ],
   "source": [
    "plt.plot(R102_125_ST_daily_20[\"DATE\"],R102_125_ST_daily_20[\"DAILY_EXITS\"])\n",
    "plt.title(\"2020-R102-125 ST\", fontsize = 16,weight='bold')\n",
    "plt.ylabel('Total Exit Nums')\n",
    "ticks_x = np.linspace(0, 364, 12)\n",
    "months = ['Jan','Feb','Mar','Apr','May','Jun','Jul','Aug','Sep','Oct','Nov','Dec']\n",
    "plt.xticks(ticks_x, months, fontsize = '8')\n",
    "plt.savefig('(R102_125_ST_daily_20.jpg', bbox_inches = 'tight');"
   ]
  },
  {
   "cell_type": "code",
   "execution_count": 178,
   "metadata": {},
   "outputs": [
    {
     "data": {
      "text/plain": [
       "9724.0"
      ]
     },
     "execution_count": 178,
     "metadata": {},
     "output_type": "execute_result"
    }
   ],
   "source": [
    "R102_125_ST_daily_20_median = np.median(R102_125_ST_daily_20[\"DAILY_EXITS\"], axis=0)\n",
    "R102_125_ST_daily_20_median"
   ]
  },
  {
   "cell_type": "code",
   "execution_count": 179,
   "metadata": {},
   "outputs": [
    {
     "data": {
      "text/plain": [
       "7485702.0"
      ]
     },
     "execution_count": 179,
     "metadata": {},
     "output_type": "execute_result"
    }
   ],
   "source": [
    "R102_125_ST_annual_20_total = R102_125_ST_daily_20[\"DAILY_EXITS\"].sum()\n",
    "R102_125_ST_annual_20_total"
   ]
  },
  {
   "cell_type": "code",
   "execution_count": 180,
   "metadata": {},
   "outputs": [
    {
     "data": {
      "text/plain": [
       "0.4532874863362077"
      ]
     },
     "execution_count": 180,
     "metadata": {},
     "output_type": "execute_result"
    }
   ],
   "source": [
    "R102_125_ST_annual_20_ridership_drop= (R102_125_ST_annual_19_total-R102_125_ST_annual_20_total)/R102_125_ST_annual_19_total\n",
    "R102_125_ST_annual_20_ridership_drop"
   ]
  },
  {
   "cell_type": "code",
   "execution_count": 181,
   "metadata": {},
   "outputs": [
    {
     "data": {
      "text/plain": [
       "0.5962632343782437"
      ]
     },
     "execution_count": 181,
     "metadata": {},
     "output_type": "execute_result"
    }
   ],
   "source": [
    "R102_125_ST_median_20_ridership_drop= (R102_125_ST_daily_19_median - R102_125_ST_daily_20_median)/R102_125_ST_daily_19_median\n",
    "R102_125_ST_median_20_ridership_drop"
   ]
  },
  {
   "cell_type": "markdown",
   "metadata": {},
   "source": [
    "* The outlier data for holiday travel spike masks the median drop. (45% annual drop in total ridership vs 60% annual drop in median daily exit numbers. Let's check 2021 vs 2019 to validate."
   ]
  },
  {
   "cell_type": "code",
   "execution_count": 182,
   "metadata": {},
   "outputs": [
    {
     "data": {
      "image/png": "[encoded data removed]",
      "text/plain": [
       "<Figure size 432x288 with 1 Axes>"
      ]
     },
     "metadata": {
      "needs_background": "light"
     },
     "output_type": "display_data"
    }
   ],
   "source": [
    "plt.plot(R102_125_ST_daily_21[\"DATE\"],R102_125_ST_daily_21[\"DAILY_EXITS\"])\n",
    "plt.title(\"2021-R102-125 ST\", fontsize = 16,weight='bold')\n",
    "plt.ylabel('Total Exit Nums')\n",
    "ticks_x = np.linspace(0, 364, 12)\n",
    "months = ['Jan','Feb','Mar','Apr','May','Jun','Jul','Aug','Sep','Oct','Nov','Dec']\n",
    "plt.xticks(ticks_x, months, fontsize = '8')\n",
    "plt.savefig('(R102_125_ST_daily_21.jpg', bbox_inches = 'tight');"
   ]
  },
  {
   "cell_type": "code",
   "execution_count": 183,
   "metadata": {},
   "outputs": [
    {
     "data": {
      "text/plain": [
       "13025.0"
      ]
     },
     "execution_count": 183,
     "metadata": {},
     "output_type": "execute_result"
    }
   ],
   "source": [
    "R102_125_ST_daily_21_median = np.median(R102_125_ST_daily_21[\"DAILY_EXITS\"], axis=0)\n",
    "R102_125_ST_daily_21_median"
   ]
  },
  {
   "cell_type": "code",
   "execution_count": 184,
   "metadata": {},
   "outputs": [
    {
     "data": {
      "text/plain": [
       "9358117.0"
      ]
     },
     "execution_count": 184,
     "metadata": {},
     "output_type": "execute_result"
    }
   ],
   "source": [
    "R102_125_ST_annual_21_total = R102_125_ST_daily_21[\"DAILY_EXITS\"].sum()\n",
    "R102_125_ST_annual_21_total"
   ]
  },
  {
   "cell_type": "code",
   "execution_count": 185,
   "metadata": {},
   "outputs": [
    {
     "data": {
      "text/plain": [
       "0.31653709054543355"
      ]
     },
     "execution_count": 185,
     "metadata": {},
     "output_type": "execute_result"
    }
   ],
   "source": [
    "R102_125_ST_annual_21_ridership_drop= (R102_125_ST_annual_19_total-R102_125_ST_annual_21_total)/R102_125_ST_annual_19_total\n",
    "R102_125_ST_annual_21_ridership_drop"
   ]
  },
  {
   "cell_type": "code",
   "execution_count": 186,
   "metadata": {},
   "outputs": [
    {
     "data": {
      "text/plain": [
       "0.5962632343782437"
      ]
     },
     "execution_count": 186,
     "metadata": {},
     "output_type": "execute_result"
    }
   ],
   "source": [
    "R102_125_ST_median_21_ridership_drop= (R102_125_ST_daily_19_median - R102_125_ST_daily_21_median)/R102_125_ST_daily_19_median\n",
    "R102_125_ST_median_20_ridership_drop"
   ]
  },
  {
   "cell_type": "markdown",
   "metadata": {},
   "source": [
    "* For 2021 recovering holiday travel numbers further mask the drop in median daily exit numbers. Let's move onto Unit R132."
   ]
  },
  {
   "cell_type": "code",
   "execution_count": 187,
   "metadata": {},
   "outputs": [
    {
     "data": {
      "image/png": "[encoded data removed]",
      "text/plain": [
       "<Figure size 432x288 with 1 Axes>"
      ]
     },
     "metadata": {
      "needs_background": "light"
     },
     "output_type": "display_data"
    }
   ],
   "source": [
    "plt.plot(R132_125_ST_daily_19[\"DATE\"],R132_125_ST_daily_19[\"DAILY_EXITS\"])\n",
    "plt.title(\"2019-R132-125 ST\", fontsize = 16,weight='bold')\n",
    "plt.ylabel('Total Exit Nums')\n",
    "ticks_x = np.linspace(0, 364, 12)\n",
    "months = ['Jan','Feb','Mar','Apr','May','Jun','Jul','Aug','Sep','Oct','Nov','Dec']\n",
    "plt.xticks(ticks_x, months, fontsize = '8')\n",
    "plt.savefig('(R132_125_ST_daily_19.jpg', bbox_inches = 'tight');"
   ]
  },
  {
   "cell_type": "code",
   "execution_count": 188,
   "metadata": {},
   "outputs": [
    {
     "data": {
      "text/plain": [
       "22981.0"
      ]
     },
     "execution_count": 188,
     "metadata": {},
     "output_type": "execute_result"
    }
   ],
   "source": [
    "R132_125_ST_daily_19_median = np.median(R132_125_ST_daily_19[\"DAILY_EXITS\"], axis=0)\n",
    "R132_125_ST_daily_19_median"
   ]
  },
  {
   "cell_type": "code",
   "execution_count": 189,
   "metadata": {},
   "outputs": [
    {
     "data": {
      "text/plain": [
       "12175759.0"
      ]
     },
     "execution_count": 189,
     "metadata": {},
     "output_type": "execute_result"
    }
   ],
   "source": [
    "R132_125_ST_annual_19_total = R132_125_ST_daily_19[\"DAILY_EXITS\"].sum()\n",
    "R132_125_ST_annual_19_total"
   ]
  },
  {
   "cell_type": "code",
   "execution_count": 190,
   "metadata": {},
   "outputs": [
    {
     "data": {
      "image/png": "[encoded data removed]",
      "text/plain": [
       "<Figure size 432x288 with 1 Axes>"
      ]
     },
     "metadata": {
      "needs_background": "light"
     },
     "output_type": "display_data"
    }
   ],
   "source": [
    "plt.plot(R132_125_ST_daily_20[\"DATE\"],R132_125_ST_daily_20[\"DAILY_EXITS\"])\n",
    "plt.title(\"2020-R132-125 ST\", fontsize = 16,weight='bold')\n",
    "plt.ylabel('Total Exit Nums')\n",
    "ticks_x = np.linspace(0, 364, 12)\n",
    "months = ['Jan','Feb','Mar','Apr','May','Jun','Jul','Aug','Sep','Oct','Nov','Dec']\n",
    "plt.xticks(ticks_x, months, fontsize = '8')\n",
    "plt.savefig('(R132_125_ST_daily_20.jpg', bbox_inches = 'tight');"
   ]
  },
  {
   "cell_type": "code",
   "execution_count": 191,
   "metadata": {},
   "outputs": [
    {
     "data": {
      "text/plain": [
       "10340.0"
      ]
     },
     "execution_count": 191,
     "metadata": {},
     "output_type": "execute_result"
    }
   ],
   "source": [
    "R132_125_ST_daily_20_median = np.median(R132_125_ST_daily_20[\"DAILY_EXITS\"], axis=0)\n",
    "R132_125_ST_daily_20_median"
   ]
  },
  {
   "cell_type": "code",
   "execution_count": 192,
   "metadata": {},
   "outputs": [
    {
     "data": {
      "text/plain": [
       "7553178.0"
      ]
     },
     "execution_count": 192,
     "metadata": {},
     "output_type": "execute_result"
    }
   ],
   "source": [
    "R132_125_ST_annual_20_total = R132_125_ST_daily_20[\"DAILY_EXITS\"].sum()\n",
    "R132_125_ST_annual_20_total"
   ]
  },
  {
   "cell_type": "code",
   "execution_count": 193,
   "metadata": {},
   "outputs": [
    {
     "data": {
      "text/plain": [
       "0.37965444289756395"
      ]
     },
     "execution_count": 193,
     "metadata": {},
     "output_type": "execute_result"
    }
   ],
   "source": [
    "R132_125_ST_annual_20_ridership_drop= (R132_125_ST_annual_19_total-R132_125_ST_annual_20_total)/R132_125_ST_annual_19_total\n",
    "R132_125_ST_annual_20_ridership_drop"
   ]
  },
  {
   "cell_type": "code",
   "execution_count": 194,
   "metadata": {},
   "outputs": [
    {
     "data": {
      "text/plain": [
       "0.5500630956007136"
      ]
     },
     "execution_count": 194,
     "metadata": {},
     "output_type": "execute_result"
    }
   ],
   "source": [
    "R132_125_ST_median_20_ridership_drop= (R132_125_ST_daily_19_median - R132_125_ST_daily_20_median)/R132_125_ST_daily_19_median\n",
    "R132_125_ST_median_20_ridership_drop"
   ]
  },
  {
   "cell_type": "markdown",
   "metadata": {},
   "source": [
    "* Similar to Unit R102, we also observe a higher level of drop in the median daily exit numbers vs the total annual exit numbers (55% vs 38%) Let's examine year 2021 to conclude."
   ]
  },
  {
   "cell_type": "code",
   "execution_count": 195,
   "metadata": {},
   "outputs": [
    {
     "data": {
      "image/png": "[encoded data removed]",
      "text/plain": [
       "<Figure size 432x288 with 1 Axes>"
      ]
     },
     "metadata": {
      "needs_background": "light"
     },
     "output_type": "display_data"
    }
   ],
   "source": [
    "plt.plot(R132_125_ST_daily_21[\"DATE\"],R132_125_ST_daily_21[\"DAILY_EXITS\"])\n",
    "plt.title(\"2021-R132-125 ST\", fontsize = 16,weight='bold')\n",
    "plt.ylabel('Total Exit Nums')\n",
    "ticks_x = np.linspace(0, 364, 12)\n",
    "months = ['Jan','Feb','Mar','Apr','May','Jun','Jul','Aug','Sep','Oct','Nov','Dec']\n",
    "plt.xticks(ticks_x, months, fontsize = '8')\n",
    "plt.savefig('(R132_125_ST_daily_21.jpg', bbox_inches = 'tight');"
   ]
  },
  {
   "cell_type": "code",
   "execution_count": 196,
   "metadata": {},
   "outputs": [
    {
     "data": {
      "text/plain": [
       "13206.0"
      ]
     },
     "execution_count": 196,
     "metadata": {},
     "output_type": "execute_result"
    }
   ],
   "source": [
    "R132_125_ST_daily_21_median = np.median(R132_125_ST_daily_21[\"DAILY_EXITS\"], axis=0)\n",
    "R132_125_ST_daily_21_median"
   ]
  },
  {
   "cell_type": "code",
   "execution_count": 197,
   "metadata": {},
   "outputs": [
    {
     "data": {
      "text/plain": [
       "9960115.0"
      ]
     },
     "execution_count": 197,
     "metadata": {},
     "output_type": "execute_result"
    }
   ],
   "source": [
    "R132_125_ST_annual_21_total = R132_125_ST_daily_21[\"DAILY_EXITS\"].sum()\n",
    "R132_125_ST_annual_21_total"
   ]
  },
  {
   "cell_type": "code",
   "execution_count": 198,
   "metadata": {},
   "outputs": [
    {
     "data": {
      "text/plain": [
       "0.1819717358071887"
      ]
     },
     "execution_count": 198,
     "metadata": {},
     "output_type": "execute_result"
    }
   ],
   "source": [
    "R132_125_ST_annual_21_ridership_drop= (R132_125_ST_annual_19_total-R132_125_ST_annual_21_total)/R132_125_ST_annual_19_total\n",
    "R132_125_ST_annual_21_ridership_drop"
   ]
  },
  {
   "cell_type": "code",
   "execution_count": 199,
   "metadata": {},
   "outputs": [
    {
     "data": {
      "text/plain": [
       "0.4253513772246639"
      ]
     },
     "execution_count": 199,
     "metadata": {},
     "output_type": "execute_result"
    }
   ],
   "source": [
    "R132_125_ST_median_21_ridership_drop= (R132_125_ST_daily_19_median - R132_125_ST_daily_21_median)/R132_125_ST_daily_19_median\n",
    "R132_125_ST_median_21_ridership_drop"
   ]
  },
  {
   "cell_type": "markdown",
   "metadata": {},
   "source": [
    "* For Unit R132 in 2021, the total annual rideship numbers continue to improve and get closer to the 2019 levels but this increase appears to be spurred by hikes in daily exit numbers in April, Oct and Holiday Season. A 42% drop in median daily ridership is observed vs 2019 which fits with data for the overall drop in ridership in the entire MTA system.\n",
    "\n",
    "* Now, let's examine available ridership data from 2022 vs 2019 in an effort to see if recovery in ridership levels continue to trend upwards."
   ]
  },
  {
   "cell_type": "code",
   "execution_count": 200,
   "metadata": {},
   "outputs": [],
   "source": [
    "station_daily_19['DATE'] = pd.to_datetime(station_daily_19['DATE'])"
   ]
  },
  {
   "cell_type": "code",
   "execution_count": 201,
   "metadata": {
    "scrolled": true
   },
   "outputs": [
    {
     "data": {
      "text/html": [
       "<div>\n",
       "<style scoped>\n",
       "    .dataframe tbody tr th:only-of-type {\n",
       "        vertical-align: middle;\n",
       "    }\n",
       "\n",
       "    .dataframe tbody tr th {\n",
       "        vertical-align: top;\n",
       "    }\n",
       "\n",
       "    .dataframe thead th {\n",
       "        text-align: right;\n",
       "    }\n",
       "</style>\n",
       "<table border=\"1\" class=\"dataframe\">\n",
       "  <thead>\n",
       "    <tr style=\"text-align: right;\">\n",
       "      <th></th>\n",
       "      <th>STATION</th>\n",
       "      <th>DATE</th>\n",
       "      <th>DAILY_EXITS</th>\n",
       "    </tr>\n",
       "  </thead>\n",
       "  <tbody>\n",
       "    <tr>\n",
       "      <th>0</th>\n",
       "      <td>1 AV</td>\n",
       "      <td>2019-01-02</td>\n",
       "      <td>21058.0</td>\n",
       "    </tr>\n",
       "    <tr>\n",
       "      <th>1</th>\n",
       "      <td>1 AV</td>\n",
       "      <td>2019-01-03</td>\n",
       "      <td>22531.0</td>\n",
       "    </tr>\n",
       "    <tr>\n",
       "      <th>2</th>\n",
       "      <td>1 AV</td>\n",
       "      <td>2019-01-04</td>\n",
       "      <td>23633.0</td>\n",
       "    </tr>\n",
       "    <tr>\n",
       "      <th>3</th>\n",
       "      <td>1 AV</td>\n",
       "      <td>2019-01-05</td>\n",
       "      <td>16661.0</td>\n",
       "    </tr>\n",
       "    <tr>\n",
       "      <th>4</th>\n",
       "      <td>1 AV</td>\n",
       "      <td>2019-01-06</td>\n",
       "      <td>13789.0</td>\n",
       "    </tr>\n",
       "    <tr>\n",
       "      <th>...</th>\n",
       "      <td>...</td>\n",
       "      <td>...</td>\n",
       "      <td>...</td>\n",
       "    </tr>\n",
       "    <tr>\n",
       "      <th>136651</th>\n",
       "      <td>ZEREGA AV</td>\n",
       "      <td>2019-03-03</td>\n",
       "      <td>1068.0</td>\n",
       "    </tr>\n",
       "    <tr>\n",
       "      <th>136652</th>\n",
       "      <td>ZEREGA AV</td>\n",
       "      <td>2019-03-04</td>\n",
       "      <td>1756.0</td>\n",
       "    </tr>\n",
       "    <tr>\n",
       "      <th>136951</th>\n",
       "      <td>ZEREGA AV</td>\n",
       "      <td>2018-12-29</td>\n",
       "      <td>743395.0</td>\n",
       "    </tr>\n",
       "    <tr>\n",
       "      <th>136952</th>\n",
       "      <td>ZEREGA AV</td>\n",
       "      <td>2018-12-30</td>\n",
       "      <td>1197.0</td>\n",
       "    </tr>\n",
       "    <tr>\n",
       "      <th>136953</th>\n",
       "      <td>ZEREGA AV</td>\n",
       "      <td>2018-12-31</td>\n",
       "      <td>1629.0</td>\n",
       "    </tr>\n",
       "  </tbody>\n",
       "</table>\n",
       "<p>24514 rows × 3 columns</p>\n",
       "</div>"
      ],
      "text/plain": [
       "          STATION       DATE  DAILY_EXITS\n",
       "0            1 AV 2019-01-02      21058.0\n",
       "1            1 AV 2019-01-03      22531.0\n",
       "2            1 AV 2019-01-04      23633.0\n",
       "3            1 AV 2019-01-05      16661.0\n",
       "4            1 AV 2019-01-06      13789.0\n",
       "...           ...        ...          ...\n",
       "136651  ZEREGA AV 2019-03-03       1068.0\n",
       "136652  ZEREGA AV 2019-03-04       1756.0\n",
       "136951  ZEREGA AV 2018-12-29     743395.0\n",
       "136952  ZEREGA AV 2018-12-30       1197.0\n",
       "136953  ZEREGA AV 2018-12-31       1629.0\n",
       "\n",
       "[24514 rows x 3 columns]"
      ]
     },
     "execution_count": 201,
     "metadata": {},
     "output_type": "execute_result"
    }
   ],
   "source": [
    "#Filter into Daily Exit Numbers per Station from 2019 up to Mar 4th which is the last date of data \n",
    "#available for 2022.\n",
    "station_daily_19_new = station_daily_19[(station_daily_19['DATE'] >= '12/25/2018')&(station_daily_19['DATE'] <= '03/04/2019')]\n",
    "station_daily_19_new\n"
   ]
  },
  {
   "cell_type": "code",
   "execution_count": 202,
   "metadata": {},
   "outputs": [],
   "source": [
    "station_daily_22['DATE'] = pd.to_datetime(station_daily_22['DATE'])"
   ]
  },
  {
   "cell_type": "code",
   "execution_count": 203,
   "metadata": {},
   "outputs": [
    {
     "data": {
      "text/plain": [
       "1302099970.0"
      ]
     },
     "execution_count": 203,
     "metadata": {},
     "output_type": "execute_result"
    }
   ],
   "source": [
    "station_daily_19_new_total = station_daily_19_new[\"DAILY_EXITS\"].sum()\n",
    "station_daily_19_new_total"
   ]
  },
  {
   "cell_type": "code",
   "execution_count": 204,
   "metadata": {},
   "outputs": [
    {
     "data": {
      "text/plain": [
       "330166632.0"
      ]
     },
     "execution_count": 204,
     "metadata": {},
     "output_type": "execute_result"
    }
   ],
   "source": [
    "station_daily_22_total = station_daily_22[\"DAILY_EXITS\"].sum()\n",
    "station_daily_22_total"
   ]
  },
  {
   "cell_type": "markdown",
   "metadata": {},
   "source": [
    "* Ridership is about 75% down on 2019 levels in 2022 compared between same periods from late Dec to early Mar."
   ]
  },
  {
   "cell_type": "markdown",
   "metadata": {},
   "source": [
    "* Let's plot this data to visualize the difference over the same period of time."
   ]
  },
  {
   "cell_type": "code",
   "execution_count": 212,
   "metadata": {},
   "outputs": [
    {
     "data": {
      "text/html": [
       "<div>\n",
       "<style scoped>\n",
       "    .dataframe tbody tr th:only-of-type {\n",
       "        vertical-align: middle;\n",
       "    }\n",
       "\n",
       "    .dataframe tbody tr th {\n",
       "        vertical-align: top;\n",
       "    }\n",
       "\n",
       "    .dataframe thead th {\n",
       "        text-align: right;\n",
       "    }\n",
       "</style>\n",
       "<table border=\"1\" class=\"dataframe\">\n",
       "  <thead>\n",
       "    <tr style=\"text-align: right;\">\n",
       "      <th></th>\n",
       "      <th>DATE</th>\n",
       "      <th>DAILY_EXITS</th>\n",
       "    </tr>\n",
       "  </thead>\n",
       "  <tbody>\n",
       "    <tr>\n",
       "      <th>0</th>\n",
       "      <td>01/02/2019</td>\n",
       "      <td>4.117057e+06</td>\n",
       "    </tr>\n",
       "    <tr>\n",
       "      <th>1</th>\n",
       "      <td>01/03/2019</td>\n",
       "      <td>4.365957e+06</td>\n",
       "    </tr>\n",
       "    <tr>\n",
       "      <th>2</th>\n",
       "      <td>01/04/2019</td>\n",
       "      <td>4.392810e+06</td>\n",
       "    </tr>\n",
       "    <tr>\n",
       "      <th>3</th>\n",
       "      <td>01/05/2019</td>\n",
       "      <td>2.884997e+06</td>\n",
       "    </tr>\n",
       "    <tr>\n",
       "      <th>4</th>\n",
       "      <td>01/06/2019</td>\n",
       "      <td>3.652789e+06</td>\n",
       "    </tr>\n",
       "    <tr>\n",
       "      <th>...</th>\n",
       "      <td>...</td>\n",
       "      <td>...</td>\n",
       "    </tr>\n",
       "    <tr>\n",
       "      <th>358</th>\n",
       "      <td>12/26/2019</td>\n",
       "      <td>3.375193e+06</td>\n",
       "    </tr>\n",
       "    <tr>\n",
       "      <th>359</th>\n",
       "      <td>12/27/2019</td>\n",
       "      <td>4.102773e+06</td>\n",
       "    </tr>\n",
       "    <tr>\n",
       "      <th>360</th>\n",
       "      <td>12/29/2018</td>\n",
       "      <td>1.039566e+09</td>\n",
       "    </tr>\n",
       "    <tr>\n",
       "      <th>361</th>\n",
       "      <td>12/30/2018</td>\n",
       "      <td>3.357865e+06</td>\n",
       "    </tr>\n",
       "    <tr>\n",
       "      <th>362</th>\n",
       "      <td>12/31/2018</td>\n",
       "      <td>3.235766e+06</td>\n",
       "    </tr>\n",
       "  </tbody>\n",
       "</table>\n",
       "<p>363 rows × 2 columns</p>\n",
       "</div>"
      ],
      "text/plain": [
       "           DATE   DAILY_EXITS\n",
       "0    01/02/2019  4.117057e+06\n",
       "1    01/03/2019  4.365957e+06\n",
       "2    01/04/2019  4.392810e+06\n",
       "3    01/05/2019  2.884997e+06\n",
       "4    01/06/2019  3.652789e+06\n",
       "..          ...           ...\n",
       "358  12/26/2019  3.375193e+06\n",
       "359  12/27/2019  4.102773e+06\n",
       "360  12/29/2018  1.039566e+09\n",
       "361  12/30/2018  3.357865e+06\n",
       "362  12/31/2018  3.235766e+06\n",
       "\n",
       "[363 rows x 2 columns]"
      ]
     },
     "execution_count": 212,
     "metadata": {},
     "output_type": "execute_result"
    }
   ],
   "source": [
    "# Daily exit number totals across the entire MTA system\n",
    "station_daily_19_all = turnstiles_daily_19.groupby(\"DATE\")[['DAILY_EXITS']].sum().reset_index()\n",
    "station_daily_19_all"
   ]
  },
  {
   "cell_type": "code",
   "execution_count": 214,
   "metadata": {},
   "outputs": [],
   "source": [
    "station_daily_19_all['DATE'] = pd.to_datetime(station_daily_19_all['DATE'])"
   ]
  },
  {
   "cell_type": "code",
   "execution_count": 213,
   "metadata": {},
   "outputs": [
    {
     "data": {
      "text/html": [
       "<div>\n",
       "<style scoped>\n",
       "    .dataframe tbody tr th:only-of-type {\n",
       "        vertical-align: middle;\n",
       "    }\n",
       "\n",
       "    .dataframe tbody tr th {\n",
       "        vertical-align: top;\n",
       "    }\n",
       "\n",
       "    .dataframe thead th {\n",
       "        text-align: right;\n",
       "    }\n",
       "</style>\n",
       "<table border=\"1\" class=\"dataframe\">\n",
       "  <thead>\n",
       "    <tr style=\"text-align: right;\">\n",
       "      <th></th>\n",
       "      <th>DATE</th>\n",
       "      <th>DAILY_EXITS</th>\n",
       "    </tr>\n",
       "  </thead>\n",
       "  <tbody>\n",
       "    <tr>\n",
       "      <th>0</th>\n",
       "      <td>01/02/2022</td>\n",
       "      <td>1293801.0</td>\n",
       "    </tr>\n",
       "    <tr>\n",
       "      <th>1</th>\n",
       "      <td>01/03/2022</td>\n",
       "      <td>2274841.0</td>\n",
       "    </tr>\n",
       "    <tr>\n",
       "      <th>2</th>\n",
       "      <td>01/04/2022</td>\n",
       "      <td>2244263.0</td>\n",
       "    </tr>\n",
       "    <tr>\n",
       "      <th>3</th>\n",
       "      <td>01/05/2022</td>\n",
       "      <td>2210776.0</td>\n",
       "    </tr>\n",
       "    <tr>\n",
       "      <th>4</th>\n",
       "      <td>01/06/2022</td>\n",
       "      <td>2284719.0</td>\n",
       "    </tr>\n",
       "    <tr>\n",
       "      <th>...</th>\n",
       "      <td>...</td>\n",
       "      <td>...</td>\n",
       "    </tr>\n",
       "    <tr>\n",
       "      <th>64</th>\n",
       "      <td>12/27/2021</td>\n",
       "      <td>2008322.0</td>\n",
       "    </tr>\n",
       "    <tr>\n",
       "      <th>65</th>\n",
       "      <td>12/28/2021</td>\n",
       "      <td>2204474.0</td>\n",
       "    </tr>\n",
       "    <tr>\n",
       "      <th>66</th>\n",
       "      <td>12/29/2021</td>\n",
       "      <td>2144630.0</td>\n",
       "    </tr>\n",
       "    <tr>\n",
       "      <th>67</th>\n",
       "      <td>12/30/2021</td>\n",
       "      <td>2398315.0</td>\n",
       "    </tr>\n",
       "    <tr>\n",
       "      <th>68</th>\n",
       "      <td>12/31/2021</td>\n",
       "      <td>2835072.0</td>\n",
       "    </tr>\n",
       "  </tbody>\n",
       "</table>\n",
       "<p>69 rows × 2 columns</p>\n",
       "</div>"
      ],
      "text/plain": [
       "          DATE  DAILY_EXITS\n",
       "0   01/02/2022    1293801.0\n",
       "1   01/03/2022    2274841.0\n",
       "2   01/04/2022    2244263.0\n",
       "3   01/05/2022    2210776.0\n",
       "4   01/06/2022    2284719.0\n",
       "..         ...          ...\n",
       "64  12/27/2021    2008322.0\n",
       "65  12/28/2021    2204474.0\n",
       "66  12/29/2021    2144630.0\n",
       "67  12/30/2021    2398315.0\n",
       "68  12/31/2021    2835072.0\n",
       "\n",
       "[69 rows x 2 columns]"
      ]
     },
     "execution_count": 213,
     "metadata": {},
     "output_type": "execute_result"
    }
   ],
   "source": [
    "station_daily_22_all = turnstiles_daily_22.groupby(\"DATE\")[['DAILY_EXITS']].sum().reset_index()\n",
    "station_daily_22_all"
   ]
  },
  {
   "cell_type": "code",
   "execution_count": 216,
   "metadata": {},
   "outputs": [
    {
     "data": {
      "text/html": [
       "<div>\n",
       "<style scoped>\n",
       "    .dataframe tbody tr th:only-of-type {\n",
       "        vertical-align: middle;\n",
       "    }\n",
       "\n",
       "    .dataframe tbody tr th {\n",
       "        vertical-align: top;\n",
       "    }\n",
       "\n",
       "    .dataframe thead th {\n",
       "        text-align: right;\n",
       "    }\n",
       "</style>\n",
       "<table border=\"1\" class=\"dataframe\">\n",
       "  <thead>\n",
       "    <tr style=\"text-align: right;\">\n",
       "      <th></th>\n",
       "      <th>DATE</th>\n",
       "      <th>DAILY_EXITS</th>\n",
       "    </tr>\n",
       "  </thead>\n",
       "  <tbody>\n",
       "    <tr>\n",
       "      <th>0</th>\n",
       "      <td>2019-01-02</td>\n",
       "      <td>4.117057e+06</td>\n",
       "    </tr>\n",
       "    <tr>\n",
       "      <th>1</th>\n",
       "      <td>2019-01-03</td>\n",
       "      <td>4.365957e+06</td>\n",
       "    </tr>\n",
       "    <tr>\n",
       "      <th>2</th>\n",
       "      <td>2019-01-04</td>\n",
       "      <td>4.392810e+06</td>\n",
       "    </tr>\n",
       "    <tr>\n",
       "      <th>3</th>\n",
       "      <td>2019-01-05</td>\n",
       "      <td>2.884997e+06</td>\n",
       "    </tr>\n",
       "    <tr>\n",
       "      <th>4</th>\n",
       "      <td>2019-01-06</td>\n",
       "      <td>3.652789e+06</td>\n",
       "    </tr>\n",
       "    <tr>\n",
       "      <th>...</th>\n",
       "      <td>...</td>\n",
       "      <td>...</td>\n",
       "    </tr>\n",
       "    <tr>\n",
       "      <th>64</th>\n",
       "      <td>2019-03-07</td>\n",
       "      <td>4.844232e+06</td>\n",
       "    </tr>\n",
       "    <tr>\n",
       "      <th>65</th>\n",
       "      <td>2019-03-08</td>\n",
       "      <td>5.042064e+06</td>\n",
       "    </tr>\n",
       "    <tr>\n",
       "      <th>360</th>\n",
       "      <td>2018-12-29</td>\n",
       "      <td>1.039566e+09</td>\n",
       "    </tr>\n",
       "    <tr>\n",
       "      <th>361</th>\n",
       "      <td>2018-12-30</td>\n",
       "      <td>3.357865e+06</td>\n",
       "    </tr>\n",
       "    <tr>\n",
       "      <th>362</th>\n",
       "      <td>2018-12-31</td>\n",
       "      <td>3.235766e+06</td>\n",
       "    </tr>\n",
       "  </tbody>\n",
       "</table>\n",
       "<p>69 rows × 2 columns</p>\n",
       "</div>"
      ],
      "text/plain": [
       "          DATE   DAILY_EXITS\n",
       "0   2019-01-02  4.117057e+06\n",
       "1   2019-01-03  4.365957e+06\n",
       "2   2019-01-04  4.392810e+06\n",
       "3   2019-01-05  2.884997e+06\n",
       "4   2019-01-06  3.652789e+06\n",
       "..         ...           ...\n",
       "64  2019-03-07  4.844232e+06\n",
       "65  2019-03-08  5.042064e+06\n",
       "360 2018-12-29  1.039566e+09\n",
       "361 2018-12-30  3.357865e+06\n",
       "362 2018-12-31  3.235766e+06\n",
       "\n",
       "[69 rows x 2 columns]"
      ]
     },
     "execution_count": 216,
     "metadata": {},
     "output_type": "execute_result"
    }
   ],
   "source": [
    "station_daily_19_all_subset = station_daily_19_all[(station_daily_19_all['DATE'] >= '12/25/2018')&(station_daily_19_all['DATE'] <= '03/08/2019')]\n",
    "station_daily_19_all_subset"
   ]
  },
  {
   "cell_type": "code",
   "execution_count": 225,
   "metadata": {},
   "outputs": [
    {
     "ename": "SyntaxError",
     "evalue": "positional argument follows keyword argument (974946248.py, line 6)",
     "output_type": "error",
     "traceback": [
      "\u001b[0;36m  File \u001b[0;32m\"/tmp/ipykernel_26015/974946248.py\"\u001b[0;36m, line \u001b[0;32m6\u001b[0m\n\u001b[0;31m    plt.xticks(ticks = None, weeks)\u001b[0m\n\u001b[0m                                  ^\u001b[0m\n\u001b[0;31mSyntaxError\u001b[0m\u001b[0;31m:\u001b[0m positional argument follows keyword argument\n"
     ]
    }
   ],
   "source": [
    "plt.plot(station_daily_19_all_subset[\"DATE\"],station_daily_19_all_subset[\"DAILY_EXITS\"])\n",
    "plt.title(\"2019 Partial Exit Data\", fontsize = 16,weight='bold')\n",
    "plt.ylabel('Total Exit Nums')\n",
    "ticks_x1 = np.linspace(0, 6, 10)\n",
    "weeks = ['12/25','01/01','01/08','01/15','01/22','01/29','02/05','02/12','02/19','02/26']\n",
    "plt.xticks(ticks_x1, weeks, fontsize = '8', rotation = 90)\n",
    "plt.savefig('2019 Partial Exit Data.jpg', bbox_inches = 'tight');"
   ]
  },
  {
   "cell_type": "markdown",
   "metadata": {},
   "source": [
    "## CONCLUSION\n",
    "\n",
    "* Even though the initial total annual exit numbers at four 125 ST stations appeared to indicate a far less drop in ridership, it is clear that the source of the smaller decrease in overall rideship levels is the spontaneous  spike in ridership levels during Holidays. \n",
    "\n",
    "* The fact that all 125 ST stations are on lines that are intersecting the bus line to the LaGuardia Airport explains the spontaneous spikes in ridership levels during Holidays.\n",
    "\n"
   ]
  },
  {
   "cell_type": "markdown",
   "metadata": {},
   "source": [
    "## RECOMMEDATIONS\n"
   ]
  },
  {
   "cell_type": "markdown",
   "metadata": {},
   "source": [
    "* Even though initial total ridership volumes indicated to a lesser drop at 125 ST Stations vs the top 10 performing stations in 2019, the median daily ridership numbers indicate that the drop in ridership levels is comparable to other stations in the MTA system. This study does not point to a weighted shift in ridership levels at one or more stations as anticapated originally.\n",
    "\n",
    "* However, with new remote work policies put in place in several work sectors, it is recommended that quarterly reports to monitor ridership levels at areas of interest to the management be preapared to identify any possible shifts and/or changes in 2022 as the pandemic restrictions are lifted or improved."
   ]
  },
  {
   "cell_type": "code",
   "execution_count": null,
   "metadata": {},
   "outputs": [],
   "source": []
  }
 ],
 "metadata": {
  "kernelspec": {
   "display_name": "Python 3 (ipykernel)",
   "language": "python",
   "name": "python3"
  },
  "language_info": {
   "codemirror_mode": {
    "name": "ipython",
    "version": 3
   },
   "file_extension": ".py",
   "mimetype": "text/x-python",
   "name": "python",
   "nbconvert_exporter": "python",
   "pygments_lexer": "ipython3",
   "version": "3.9.7"
  },
  "toc": {
   "base_numbering": 1,
   "nav_menu": {},
   "number_sections": false,
   "sideBar": true,
   "skip_h1_title": false,
   "title_cell": "Table of Contents",
   "title_sidebar": "Contents",
   "toc_cell": false,
   "toc_position": {
    "height": "calc(100% - 180px)",
    "left": "10px",
    "top": "150px",
    "width": "288px"
   },
   "toc_section_display": true,
   "toc_window_display": true
  }
 },
 "nbformat": 4,
 "nbformat_minor": 4
}
